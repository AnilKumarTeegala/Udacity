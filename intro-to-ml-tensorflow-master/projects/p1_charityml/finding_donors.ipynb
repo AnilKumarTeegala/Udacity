{
 "cells": [
  {
   "cell_type": "markdown",
   "metadata": {},
   "source": [
    "## Supervised Learning\n",
    "## Project: Finding Donors for *CharityML*"
   ]
  },
  {
   "cell_type": "markdown",
   "metadata": {},
   "source": [
    "In this notebook, some template code has already been provided for you, and it will be your job to implement the additional functionality necessary to successfully complete this project. Sections that begin with **'Implementation'** in the header indicate that the following block of code will require additional functionality which you must provide. Instructions will be provided for each section and the specifics of the implementation are marked in the code block with a `'TODO'` statement. Please be sure to read the instructions carefully!\n",
    "\n",
    "In addition to implementing code, there will be questions that you must answer which relate to the project and your implementation. Each section where you will answer a question is preceded by a **'Question X'** header. Carefully read each question and provide thorough answers in the following text boxes that begin with **'Answer:'**. Your project submission will be evaluated based on your answers to each of the questions and the implementation you provide.  \n",
    "\n",
    ">**Note:** Please specify WHICH VERSION OF PYTHON you are using when submitting this notebook. Code and Markdown cells can be executed using the **Shift + Enter** keyboard shortcut. In addition, Markdown cells can be edited by typically double-clicking the cell to enter edit mode."
   ]
  },
  {
   "cell_type": "markdown",
   "metadata": {},
   "source": [
    "## Getting Started\n",
    "\n",
    "In this project, you will employ several supervised algorithms of your choice to accurately model individuals' income using data collected from the 1994 U.S. Census. You will then choose the best candidate algorithm from preliminary results and further optimize this algorithm to best model the data. Your goal with this implementation is to construct a model that accurately predicts whether an individual makes more than $50,000. This sort of task can arise in a non-profit setting, where organizations survive on donations.  Understanding an individual's income can help a non-profit better understand how large of a donation to request, or whether or not they should reach out to begin with.  While it can be difficult to determine an individual's general income bracket directly from public sources, we can (as we will see) infer this value from other publically available features. \n",
    "\n",
    "The dataset for this project originates from the [UCI Machine Learning Repository](https://archive.ics.uci.edu/ml/datasets/Census+Income). The datset was donated by Ron Kohavi and Barry Becker, after being published in the article _\"Scaling Up the Accuracy of Naive-Bayes Classifiers: A Decision-Tree Hybrid\"_. You can find the article by Ron Kohavi [online](https://www.aaai.org/Papers/KDD/1996/KDD96-033.pdf). The data we investigate here consists of small changes to the original dataset, such as removing the `'fnlwgt'` feature and records with missing or ill-formatted entries."
   ]
  },
  {
   "cell_type": "markdown",
   "metadata": {},
   "source": [
    "----\n",
    "## Exploring the Data\n",
    "Run the code cell below to load necessary Python libraries and load the census data. Note that the last column from this dataset, `'income'`, will be our target label (whether an individual makes more than, or at most, $50,000 annually). All other columns are features about each individual in the census database."
   ]
  },
  {
   "cell_type": "code",
   "execution_count": 16,
   "metadata": {},
   "outputs": [
    {
     "data": {
      "text/html": [
       "<div>\n",
       "<style scoped>\n",
       "    .dataframe tbody tr th:only-of-type {\n",
       "        vertical-align: middle;\n",
       "    }\n",
       "\n",
       "    .dataframe tbody tr th {\n",
       "        vertical-align: top;\n",
       "    }\n",
       "\n",
       "    .dataframe thead th {\n",
       "        text-align: right;\n",
       "    }\n",
       "</style>\n",
       "<table border=\"1\" class=\"dataframe\">\n",
       "  <thead>\n",
       "    <tr style=\"text-align: right;\">\n",
       "      <th></th>\n",
       "      <th>age</th>\n",
       "      <th>workclass</th>\n",
       "      <th>education_level</th>\n",
       "      <th>education-num</th>\n",
       "      <th>marital-status</th>\n",
       "      <th>occupation</th>\n",
       "      <th>relationship</th>\n",
       "      <th>race</th>\n",
       "      <th>sex</th>\n",
       "      <th>capital-gain</th>\n",
       "      <th>capital-loss</th>\n",
       "      <th>hours-per-week</th>\n",
       "      <th>native-country</th>\n",
       "      <th>income</th>\n",
       "    </tr>\n",
       "  </thead>\n",
       "  <tbody>\n",
       "    <tr>\n",
       "      <th>0</th>\n",
       "      <td>39</td>\n",
       "      <td>State-gov</td>\n",
       "      <td>Bachelors</td>\n",
       "      <td>13.0</td>\n",
       "      <td>Never-married</td>\n",
       "      <td>Adm-clerical</td>\n",
       "      <td>Not-in-family</td>\n",
       "      <td>White</td>\n",
       "      <td>Male</td>\n",
       "      <td>2174.0</td>\n",
       "      <td>0.0</td>\n",
       "      <td>40.0</td>\n",
       "      <td>United-States</td>\n",
       "      <td>&lt;=50K</td>\n",
       "    </tr>\n",
       "  </tbody>\n",
       "</table>\n",
       "</div>"
      ],
      "text/plain": [
       "   age   workclass education_level  education-num  marital-status  \\\n",
       "0   39   State-gov       Bachelors           13.0   Never-married   \n",
       "\n",
       "      occupation    relationship    race    sex  capital-gain  capital-loss  \\\n",
       "0   Adm-clerical   Not-in-family   White   Male        2174.0           0.0   \n",
       "\n",
       "   hours-per-week  native-country income  \n",
       "0            40.0   United-States  <=50K  "
      ]
     },
     "metadata": {},
     "output_type": "display_data"
    }
   ],
   "source": [
    "# Import libraries necessary for this project\n",
    "import numpy as np\n",
    "import pandas as pd\n",
    "from time import time\n",
    "from IPython.display import display # Allows the use of display() for DataFrames\n",
    "\n",
    "# Import supplementary visualization code visuals.py\n",
    "import visuals as vs\n",
    "\n",
    "# Pretty display for notebooks\n",
    "%matplotlib inline\n",
    "\n",
    "# Load the Census dataset\n",
    "data = pd.read_csv(\"census.csv\")\n",
    "\n",
    "# Success - Display the first record\n",
    "display(data.head(n=1))"
   ]
  },
  {
   "cell_type": "markdown",
   "metadata": {},
   "source": [
    "### Implementation: Data Exploration\n",
    "A cursory investigation of the dataset will determine how many individuals fit into either group, and will tell us about the percentage of these individuals making more than \\$50,000. In the code cell below, you will need to compute the following:\n",
    "- The total number of records, `'n_records'`\n",
    "- The number of individuals making more than \\$50,000 annually, `'n_greater_50k'`.\n",
    "- The number of individuals making at most \\$50,000 annually, `'n_at_most_50k'`.\n",
    "- The percentage of individuals making more than \\$50,000 annually, `'greater_percent'`.\n",
    "\n",
    "** HINT: ** You may need to look at the table above to understand how the `'income'` entries are formatted. "
   ]
  },
  {
   "cell_type": "code",
   "execution_count": 17,
   "metadata": {},
   "outputs": [
    {
     "name": "stdout",
     "output_type": "stream",
     "text": [
      "Total number of records: 45222\n",
      "Individuals making more than $50,000: 11208\n",
      "Individuals making at most $50,000: 34014\n",
      "Percentage of individuals making more than $50,000: 24.78439697492371%\n"
     ]
    }
   ],
   "source": [
    "# TODO: Total number of records\n",
    "n_records = data.shape[0]\n",
    "\n",
    "# TODO: Number of records where individual's income is more than $50,000\n",
    "n_greater_50k = data[data['income'] == '>50K'].shape[0]\n",
    "\n",
    "# TODO: Number of records where individual's income is at most $50,000\n",
    "n_at_most_50k = data[data['income'] == '<=50K'].shape[0]\n",
    "\n",
    "# TODO: Percentage of individuals whose income is more than $50,000\n",
    "greater_percent = (n_greater_50k * 100) / n_records\n",
    "\n",
    "# Print the results\n",
    "print(\"Total number of records: {}\".format(n_records))\n",
    "print(\"Individuals making more than $50,000: {}\".format(n_greater_50k))\n",
    "print(\"Individuals making at most $50,000: {}\".format(n_at_most_50k))\n",
    "print(\"Percentage of individuals making more than $50,000: {}%\".format(greater_percent))"
   ]
  },
  {
   "cell_type": "markdown",
   "metadata": {},
   "source": [
    "** Featureset Exploration **\n",
    "\n",
    "* **age**: continuous. \n",
    "* **workclass**: Private, Self-emp-not-inc, Self-emp-inc, Federal-gov, Local-gov, State-gov, Without-pay, Never-worked. \n",
    "* **education**: Bachelors, Some-college, 11th, HS-grad, Prof-school, Assoc-acdm, Assoc-voc, 9th, 7th-8th, 12th, Masters, 1st-4th, 10th, Doctorate, 5th-6th, Preschool. \n",
    "* **education-num**: continuous. \n",
    "* **marital-status**: Married-civ-spouse, Divorced, Never-married, Separated, Widowed, Married-spouse-absent, Married-AF-spouse. \n",
    "* **occupation**: Tech-support, Craft-repair, Other-service, Sales, Exec-managerial, Prof-specialty, Handlers-cleaners, Machine-op-inspct, Adm-clerical, Farming-fishing, Transport-moving, Priv-house-serv, Protective-serv, Armed-Forces. \n",
    "* **relationship**: Wife, Own-child, Husband, Not-in-family, Other-relative, Unmarried. \n",
    "* **race**: Black, White, Asian-Pac-Islander, Amer-Indian-Eskimo, Other. \n",
    "* **sex**: Female, Male. \n",
    "* **capital-gain**: continuous. \n",
    "* **capital-loss**: continuous. \n",
    "* **hours-per-week**: continuous. \n",
    "* **native-country**: United-States, Cambodia, England, Puerto-Rico, Canada, Germany, Outlying-US(Guam-USVI-etc), India, Japan, Greece, South, China, Cuba, Iran, Honduras, Philippines, Italy, Poland, Jamaica, Vietnam, Mexico, Portugal, Ireland, France, Dominican-Republic, Laos, Ecuador, Taiwan, Haiti, Columbia, Hungary, Guatemala, Nicaragua, Scotland, Thailand, Yugoslavia, El-Salvador, Trinadad&Tobago, Peru, Hong, Holand-Netherlands."
   ]
  },
  {
   "cell_type": "markdown",
   "metadata": {},
   "source": [
    "----\n",
    "## Preparing the Data\n",
    "Before data can be used as input for machine learning algorithms, it often must be cleaned, formatted, and restructured — this is typically known as **preprocessing**. Fortunately, for this dataset, there are no invalid or missing entries we must deal with, however, there are some qualities about certain features that must be adjusted. This preprocessing can help tremendously with the outcome and predictive power of nearly all learning algorithms."
   ]
  },
  {
   "cell_type": "markdown",
   "metadata": {},
   "source": [
    "### Transforming Skewed Continuous Features\n",
    "A dataset may sometimes contain at least one feature whose values tend to lie near a single number, but will also have a non-trivial number of vastly larger or smaller values than that single number.  Algorithms can be sensitive to such distributions of values and can underperform if the range is not properly normalized. With the census dataset two features fit this description: '`capital-gain'` and `'capital-loss'`. \n",
    "\n",
    "Run the code cell below to plot a histogram of these two features. Note the range of the values present and how they are distributed."
   ]
  },
  {
   "cell_type": "code",
   "execution_count": 5,
   "metadata": {},
   "outputs": [
    {
     "data": {
      "image/png": "[encoded data removed]",
      "text/plain": [
       "<matplotlib.figure.Figure at 0x7f4e73653128>"
      ]
     },
     "metadata": {
      "needs_background": "light"
     },
     "output_type": "display_data"
    }
   ],
   "source": [
    "# Split the data into features and target label\n",
    "income_raw = data['income']\n",
    "features_raw = data.drop('income', axis = 1)\n",
    "\n",
    "# Visualize skewed continuous features of original data\n",
    "vs.distribution(data)"
   ]
  },
  {
   "cell_type": "markdown",
   "metadata": {},
   "source": [
    "For highly-skewed feature distributions such as `'capital-gain'` and `'capital-loss'`, it is common practice to apply a <a href=\"https://en.wikipedia.org/wiki/Data_transformation_(statistics)\">logarithmic transformation</a> on the data so that the very large and very small values do not negatively affect the performance of a learning algorithm. Using a logarithmic transformation significantly reduces the range of values caused by outliers. Care must be taken when applying this transformation however: The logarithm of `0` is undefined, so we must translate the values by a small amount above `0` to apply the the logarithm successfully.\n",
    "\n",
    "Run the code cell below to perform a transformation on the data and visualize the results. Again, note the range of values and how they are distributed. "
   ]
  },
  {
   "cell_type": "code",
   "execution_count": 6,
   "metadata": {},
   "outputs": [
    {
     "data": {
      "image/png": "[encoded data removed]",
      "text/plain": [
       "<matplotlib.figure.Figure at 0x7f4e67f55ef0>"
      ]
     },
     "metadata": {
      "needs_background": "light"
     },
     "output_type": "display_data"
    }
   ],
   "source": [
    "# Log-transform the skewed features\n",
    "skewed = ['capital-gain', 'capital-loss']\n",
    "features_log_transformed = pd.DataFrame(data = features_raw)\n",
    "features_log_transformed[skewed] = features_raw[skewed].apply(lambda x: np.log(x + 1))\n",
    "\n",
    "# Visualize the new log distributions\n",
    "vs.distribution(features_log_transformed, transformed = True)"
   ]
  },
  {
   "cell_type": "markdown",
   "metadata": {},
   "source": [
    "### Normalizing Numerical Features\n",
    "In addition to performing transformations on features that are highly skewed, it is often good practice to perform some type of scaling on numerical features. Applying a scaling to the data does not change the shape of each feature's distribution (such as `'capital-gain'` or `'capital-loss'` above); however, normalization ensures that each feature is treated equally when applying supervised learners. Note that once scaling is applied, observing the data in its raw form will no longer have the same original meaning, as exampled below.\n",
    "\n",
    "Run the code cell below to normalize each numerical feature. We will use [`sklearn.preprocessing.MinMaxScaler`](http://scikit-learn.org/stable/modules/generated/sklearn.preprocessing.MinMaxScaler.html) for this."
   ]
  },
  {
   "cell_type": "code",
   "execution_count": 7,
   "metadata": {},
   "outputs": [
    {
     "data": {
      "text/html": [
       "<div>\n",
       "<style scoped>\n",
       "    .dataframe tbody tr th:only-of-type {\n",
       "        vertical-align: middle;\n",
       "    }\n",
       "\n",
       "    .dataframe tbody tr th {\n",
       "        vertical-align: top;\n",
       "    }\n",
       "\n",
       "    .dataframe thead th {\n",
       "        text-align: right;\n",
       "    }\n",
       "</style>\n",
       "<table border=\"1\" class=\"dataframe\">\n",
       "  <thead>\n",
       "    <tr style=\"text-align: right;\">\n",
       "      <th></th>\n",
       "      <th>age</th>\n",
       "      <th>workclass</th>\n",
       "      <th>education_level</th>\n",
       "      <th>education-num</th>\n",
       "      <th>marital-status</th>\n",
       "      <th>occupation</th>\n",
       "      <th>relationship</th>\n",
       "      <th>race</th>\n",
       "      <th>sex</th>\n",
       "      <th>capital-gain</th>\n",
       "      <th>capital-loss</th>\n",
       "      <th>hours-per-week</th>\n",
       "      <th>native-country</th>\n",
       "    </tr>\n",
       "  </thead>\n",
       "  <tbody>\n",
       "    <tr>\n",
       "      <th>0</th>\n",
       "      <td>0.301370</td>\n",
       "      <td>State-gov</td>\n",
       "      <td>Bachelors</td>\n",
       "      <td>0.800000</td>\n",
       "      <td>Never-married</td>\n",
       "      <td>Adm-clerical</td>\n",
       "      <td>Not-in-family</td>\n",
       "      <td>White</td>\n",
       "      <td>Male</td>\n",
       "      <td>0.667492</td>\n",
       "      <td>0.0</td>\n",
       "      <td>0.397959</td>\n",
       "      <td>United-States</td>\n",
       "    </tr>\n",
       "    <tr>\n",
       "      <th>1</th>\n",
       "      <td>0.452055</td>\n",
       "      <td>Self-emp-not-inc</td>\n",
       "      <td>Bachelors</td>\n",
       "      <td>0.800000</td>\n",
       "      <td>Married-civ-spouse</td>\n",
       "      <td>Exec-managerial</td>\n",
       "      <td>Husband</td>\n",
       "      <td>White</td>\n",
       "      <td>Male</td>\n",
       "      <td>0.000000</td>\n",
       "      <td>0.0</td>\n",
       "      <td>0.122449</td>\n",
       "      <td>United-States</td>\n",
       "    </tr>\n",
       "    <tr>\n",
       "      <th>2</th>\n",
       "      <td>0.287671</td>\n",
       "      <td>Private</td>\n",
       "      <td>HS-grad</td>\n",
       "      <td>0.533333</td>\n",
       "      <td>Divorced</td>\n",
       "      <td>Handlers-cleaners</td>\n",
       "      <td>Not-in-family</td>\n",
       "      <td>White</td>\n",
       "      <td>Male</td>\n",
       "      <td>0.000000</td>\n",
       "      <td>0.0</td>\n",
       "      <td>0.397959</td>\n",
       "      <td>United-States</td>\n",
       "    </tr>\n",
       "    <tr>\n",
       "      <th>3</th>\n",
       "      <td>0.493151</td>\n",
       "      <td>Private</td>\n",
       "      <td>11th</td>\n",
       "      <td>0.400000</td>\n",
       "      <td>Married-civ-spouse</td>\n",
       "      <td>Handlers-cleaners</td>\n",
       "      <td>Husband</td>\n",
       "      <td>Black</td>\n",
       "      <td>Male</td>\n",
       "      <td>0.000000</td>\n",
       "      <td>0.0</td>\n",
       "      <td>0.397959</td>\n",
       "      <td>United-States</td>\n",
       "    </tr>\n",
       "    <tr>\n",
       "      <th>4</th>\n",
       "      <td>0.150685</td>\n",
       "      <td>Private</td>\n",
       "      <td>Bachelors</td>\n",
       "      <td>0.800000</td>\n",
       "      <td>Married-civ-spouse</td>\n",
       "      <td>Prof-specialty</td>\n",
       "      <td>Wife</td>\n",
       "      <td>Black</td>\n",
       "      <td>Female</td>\n",
       "      <td>0.000000</td>\n",
       "      <td>0.0</td>\n",
       "      <td>0.397959</td>\n",
       "      <td>Cuba</td>\n",
       "    </tr>\n",
       "  </tbody>\n",
       "</table>\n",
       "</div>"
      ],
      "text/plain": [
       "        age          workclass education_level  education-num  \\\n",
       "0  0.301370          State-gov       Bachelors       0.800000   \n",
       "1  0.452055   Self-emp-not-inc       Bachelors       0.800000   \n",
       "2  0.287671            Private         HS-grad       0.533333   \n",
       "3  0.493151            Private            11th       0.400000   \n",
       "4  0.150685            Private       Bachelors       0.800000   \n",
       "\n",
       "        marital-status          occupation    relationship    race      sex  \\\n",
       "0        Never-married        Adm-clerical   Not-in-family   White     Male   \n",
       "1   Married-civ-spouse     Exec-managerial         Husband   White     Male   \n",
       "2             Divorced   Handlers-cleaners   Not-in-family   White     Male   \n",
       "3   Married-civ-spouse   Handlers-cleaners         Husband   Black     Male   \n",
       "4   Married-civ-spouse      Prof-specialty            Wife   Black   Female   \n",
       "\n",
       "   capital-gain  capital-loss  hours-per-week  native-country  \n",
       "0      0.667492           0.0        0.397959   United-States  \n",
       "1      0.000000           0.0        0.122449   United-States  \n",
       "2      0.000000           0.0        0.397959   United-States  \n",
       "3      0.000000           0.0        0.397959   United-States  \n",
       "4      0.000000           0.0        0.397959            Cuba  "
      ]
     },
     "metadata": {},
     "output_type": "display_data"
    }
   ],
   "source": [
    "# Import sklearn.preprocessing.StandardScaler\n",
    "from sklearn.preprocessing import MinMaxScaler\n",
    "\n",
    "# Initialize a scaler, then apply it to the features\n",
    "scaler = MinMaxScaler() # default=(0, 1)\n",
    "numerical = ['age', 'education-num', 'capital-gain', 'capital-loss', 'hours-per-week']\n",
    "\n",
    "features_log_minmax_transform = pd.DataFrame(data = features_log_transformed)\n",
    "features_log_minmax_transform[numerical] = scaler.fit_transform(features_log_transformed[numerical])\n",
    "\n",
    "# Show an example of a record with scaling applied\n",
    "display(features_log_minmax_transform.head(n = 5))"
   ]
  },
  {
   "cell_type": "markdown",
   "metadata": {},
   "source": [
    "### Implementation: Data Preprocessing\n",
    "\n",
    "From the table in **Exploring the Data** above, we can see there are several features for each record that are non-numeric. Typically, learning algorithms expect input to be numeric, which requires that non-numeric features (called *categorical variables*) be converted. One popular way to convert categorical variables is by using the **one-hot encoding** scheme. One-hot encoding creates a _\"dummy\"_ variable for each possible category of each non-numeric feature. For example, assume `someFeature` has three possible entries: `A`, `B`, or `C`. We then encode this feature into `someFeature_A`, `someFeature_B` and `someFeature_C`.\n",
    "\n",
    "|   | someFeature |                    | someFeature_A | someFeature_B | someFeature_C |\n",
    "| :-: | :-: |                            | :-: | :-: | :-: |\n",
    "| 0 |  B  |  | 0 | 1 | 0 |\n",
    "| 1 |  C  | ----> one-hot encode ----> | 0 | 0 | 1 |\n",
    "| 2 |  A  |  | 1 | 0 | 0 |\n",
    "\n",
    "Additionally, as with the non-numeric features, we need to convert the non-numeric target label, `'income'` to numerical values for the learning algorithm to work. Since there are only two possible categories for this label (\"<=50K\" and \">50K\"), we can avoid using one-hot encoding and simply encode these two categories as `0` and `1`, respectively. In code cell below, you will need to implement the following:\n",
    " - Use [`pandas.get_dummies()`](http://pandas.pydata.org/pandas-docs/stable/generated/pandas.get_dummies.html?highlight=get_dummies#pandas.get_dummies) to perform one-hot encoding on the `'features_log_minmax_transform'` data.\n",
    " - Convert the target label `'income_raw'` to numerical entries.\n",
    "   - Set records with \"<=50K\" to `0` and records with \">50K\" to `1`."
   ]
  },
  {
   "cell_type": "code",
   "execution_count": 8,
   "metadata": {
    "scrolled": true
   },
   "outputs": [
    {
     "name": "stdout",
     "output_type": "stream",
     "text": [
      "103 total features after one-hot encoding.\n"
     ]
    }
   ],
   "source": [
    "# TODO: One-hot encode the 'features_log_minmax_transform' data using pandas.get_dummies()\n",
    "features_final = pd.get_dummies(features_log_minmax_transform)\n",
    "\n",
    "# TODO: Encode the 'income_raw' data to numerical values\n",
    "income = income = income_raw.apply(lambda income: 1 if income == '>50K' else 0)\n",
    "\n",
    "# Print the number of features after one-hot encoding\n",
    "encoded = list(features_final.columns)\n",
    "print(\"{} total features after one-hot encoding.\".format(len(encoded)))\n",
    "\n",
    "# Uncomment the following line to see the encoded feature names\n",
    "# print encoded"
   ]
  },
  {
   "cell_type": "markdown",
   "metadata": {},
   "source": [
    "### Shuffle and Split Data\n",
    "Now all _categorical variables_ have been converted into numerical features, and all numerical features have been normalized. As always, we will now split the data (both features and their labels) into training and test sets. 80% of the data will be used for training and 20% for testing.\n",
    "\n",
    "Run the code cell below to perform this split."
   ]
  },
  {
   "cell_type": "code",
   "execution_count": 9,
   "metadata": {},
   "outputs": [
    {
     "name": "stdout",
     "output_type": "stream",
     "text": [
      "Training set has 36177 samples.\n",
      "Testing set has 9045 samples.\n"
     ]
    }
   ],
   "source": [
    "# Import train_test_split\n",
    "from sklearn.model_selection import train_test_split\n",
    "\n",
    "# Split the 'features' and 'income' data into training and testing sets\n",
    "X_train, X_test, y_train, y_test = train_test_split(features_final, \n",
    "                                                    income, \n",
    "                                                    test_size = 0.2, \n",
    "                                                    random_state = 0)\n",
    "\n",
    "# Show the results of the split\n",
    "print(\"Training set has {} samples.\".format(X_train.shape[0]))\n",
    "print(\"Testing set has {} samples.\".format(X_test.shape[0]))"
   ]
  },
  {
   "cell_type": "code",
   "execution_count": 33,
   "metadata": {},
   "outputs": [
    {
     "data": {
      "text/html": [
       "<div>\n",
       "<style scoped>\n",
       "    .dataframe tbody tr th:only-of-type {\n",
       "        vertical-align: middle;\n",
       "    }\n",
       "\n",
       "    .dataframe tbody tr th {\n",
       "        vertical-align: top;\n",
       "    }\n",
       "\n",
       "    .dataframe thead th {\n",
       "        text-align: right;\n",
       "    }\n",
       "</style>\n",
       "<table border=\"1\" class=\"dataframe\">\n",
       "  <thead>\n",
       "    <tr style=\"text-align: right;\">\n",
       "      <th></th>\n",
       "      <th>age</th>\n",
       "      <th>education-num</th>\n",
       "      <th>capital-gain</th>\n",
       "      <th>capital-loss</th>\n",
       "      <th>hours-per-week</th>\n",
       "      <th>workclass_ Federal-gov</th>\n",
       "      <th>workclass_ Local-gov</th>\n",
       "      <th>workclass_ Private</th>\n",
       "      <th>workclass_ Self-emp-inc</th>\n",
       "      <th>workclass_ Self-emp-not-inc</th>\n",
       "      <th>...</th>\n",
       "      <th>native-country_ Portugal</th>\n",
       "      <th>native-country_ Puerto-Rico</th>\n",
       "      <th>native-country_ Scotland</th>\n",
       "      <th>native-country_ South</th>\n",
       "      <th>native-country_ Taiwan</th>\n",
       "      <th>native-country_ Thailand</th>\n",
       "      <th>native-country_ Trinadad&amp;Tobago</th>\n",
       "      <th>native-country_ United-States</th>\n",
       "      <th>native-country_ Vietnam</th>\n",
       "      <th>native-country_ Yugoslavia</th>\n",
       "    </tr>\n",
       "  </thead>\n",
       "  <tbody>\n",
       "    <tr>\n",
       "      <th>0</th>\n",
       "      <td>0.301370</td>\n",
       "      <td>0.800000</td>\n",
       "      <td>0.667492</td>\n",
       "      <td>0.0</td>\n",
       "      <td>0.397959</td>\n",
       "      <td>0</td>\n",
       "      <td>0</td>\n",
       "      <td>0</td>\n",
       "      <td>0</td>\n",
       "      <td>0</td>\n",
       "      <td>...</td>\n",
       "      <td>0</td>\n",
       "      <td>0</td>\n",
       "      <td>0</td>\n",
       "      <td>0</td>\n",
       "      <td>0</td>\n",
       "      <td>0</td>\n",
       "      <td>0</td>\n",
       "      <td>1</td>\n",
       "      <td>0</td>\n",
       "      <td>0</td>\n",
       "    </tr>\n",
       "    <tr>\n",
       "      <th>1</th>\n",
       "      <td>0.452055</td>\n",
       "      <td>0.800000</td>\n",
       "      <td>0.000000</td>\n",
       "      <td>0.0</td>\n",
       "      <td>0.122449</td>\n",
       "      <td>0</td>\n",
       "      <td>0</td>\n",
       "      <td>0</td>\n",
       "      <td>0</td>\n",
       "      <td>1</td>\n",
       "      <td>...</td>\n",
       "      <td>0</td>\n",
       "      <td>0</td>\n",
       "      <td>0</td>\n",
       "      <td>0</td>\n",
       "      <td>0</td>\n",
       "      <td>0</td>\n",
       "      <td>0</td>\n",
       "      <td>1</td>\n",
       "      <td>0</td>\n",
       "      <td>0</td>\n",
       "    </tr>\n",
       "    <tr>\n",
       "      <th>2</th>\n",
       "      <td>0.287671</td>\n",
       "      <td>0.533333</td>\n",
       "      <td>0.000000</td>\n",
       "      <td>0.0</td>\n",
       "      <td>0.397959</td>\n",
       "      <td>0</td>\n",
       "      <td>0</td>\n",
       "      <td>1</td>\n",
       "      <td>0</td>\n",
       "      <td>0</td>\n",
       "      <td>...</td>\n",
       "      <td>0</td>\n",
       "      <td>0</td>\n",
       "      <td>0</td>\n",
       "      <td>0</td>\n",
       "      <td>0</td>\n",
       "      <td>0</td>\n",
       "      <td>0</td>\n",
       "      <td>1</td>\n",
       "      <td>0</td>\n",
       "      <td>0</td>\n",
       "    </tr>\n",
       "    <tr>\n",
       "      <th>3</th>\n",
       "      <td>0.493151</td>\n",
       "      <td>0.400000</td>\n",
       "      <td>0.000000</td>\n",
       "      <td>0.0</td>\n",
       "      <td>0.397959</td>\n",
       "      <td>0</td>\n",
       "      <td>0</td>\n",
       "      <td>1</td>\n",
       "      <td>0</td>\n",
       "      <td>0</td>\n",
       "      <td>...</td>\n",
       "      <td>0</td>\n",
       "      <td>0</td>\n",
       "      <td>0</td>\n",
       "      <td>0</td>\n",
       "      <td>0</td>\n",
       "      <td>0</td>\n",
       "      <td>0</td>\n",
       "      <td>1</td>\n",
       "      <td>0</td>\n",
       "      <td>0</td>\n",
       "    </tr>\n",
       "    <tr>\n",
       "      <th>4</th>\n",
       "      <td>0.150685</td>\n",
       "      <td>0.800000</td>\n",
       "      <td>0.000000</td>\n",
       "      <td>0.0</td>\n",
       "      <td>0.397959</td>\n",
       "      <td>0</td>\n",
       "      <td>0</td>\n",
       "      <td>1</td>\n",
       "      <td>0</td>\n",
       "      <td>0</td>\n",
       "      <td>...</td>\n",
       "      <td>0</td>\n",
       "      <td>0</td>\n",
       "      <td>0</td>\n",
       "      <td>0</td>\n",
       "      <td>0</td>\n",
       "      <td>0</td>\n",
       "      <td>0</td>\n",
       "      <td>0</td>\n",
       "      <td>0</td>\n",
       "      <td>0</td>\n",
       "    </tr>\n",
       "  </tbody>\n",
       "</table>\n",
       "<p>5 rows × 103 columns</p>\n",
       "</div>"
      ],
      "text/plain": [
       "        age  education-num  capital-gain  capital-loss  hours-per-week  \\\n",
       "0  0.301370       0.800000      0.667492           0.0        0.397959   \n",
       "1  0.452055       0.800000      0.000000           0.0        0.122449   \n",
       "2  0.287671       0.533333      0.000000           0.0        0.397959   \n",
       "3  0.493151       0.400000      0.000000           0.0        0.397959   \n",
       "4  0.150685       0.800000      0.000000           0.0        0.397959   \n",
       "\n",
       "   workclass_ Federal-gov  workclass_ Local-gov  workclass_ Private  \\\n",
       "0                       0                     0                   0   \n",
       "1                       0                     0                   0   \n",
       "2                       0                     0                   1   \n",
       "3                       0                     0                   1   \n",
       "4                       0                     0                   1   \n",
       "\n",
       "   workclass_ Self-emp-inc  workclass_ Self-emp-not-inc  \\\n",
       "0                        0                            0   \n",
       "1                        0                            1   \n",
       "2                        0                            0   \n",
       "3                        0                            0   \n",
       "4                        0                            0   \n",
       "\n",
       "              ...              native-country_ Portugal  \\\n",
       "0             ...                                     0   \n",
       "1             ...                                     0   \n",
       "2             ...                                     0   \n",
       "3             ...                                     0   \n",
       "4             ...                                     0   \n",
       "\n",
       "   native-country_ Puerto-Rico  native-country_ Scotland  \\\n",
       "0                            0                         0   \n",
       "1                            0                         0   \n",
       "2                            0                         0   \n",
       "3                            0                         0   \n",
       "4                            0                         0   \n",
       "\n",
       "   native-country_ South  native-country_ Taiwan  native-country_ Thailand  \\\n",
       "0                      0                       0                         0   \n",
       "1                      0                       0                         0   \n",
       "2                      0                       0                         0   \n",
       "3                      0                       0                         0   \n",
       "4                      0                       0                         0   \n",
       "\n",
       "   native-country_ Trinadad&Tobago  native-country_ United-States  \\\n",
       "0                                0                              1   \n",
       "1                                0                              1   \n",
       "2                                0                              1   \n",
       "3                                0                              1   \n",
       "4                                0                              0   \n",
       "\n",
       "   native-country_ Vietnam  native-country_ Yugoslavia  \n",
       "0                        0                           0  \n",
       "1                        0                           0  \n",
       "2                        0                           0  \n",
       "3                        0                           0  \n",
       "4                        0                           0  \n",
       "\n",
       "[5 rows x 103 columns]"
      ]
     },
     "execution_count": 33,
     "metadata": {},
     "output_type": "execute_result"
    }
   ],
   "source": [
    "features_final.head()#,income.head()"
   ]
  },
  {
   "cell_type": "markdown",
   "metadata": {},
   "source": [
    "----\n",
    "## Evaluating Model Performance\n",
    "In this section, we will investigate four different algorithms, and determine which is best at modeling the data. Three of these algorithms will be supervised learners of your choice, and the fourth algorithm is known as a *naive predictor*."
   ]
  },
  {
   "cell_type": "markdown",
   "metadata": {},
   "source": [
    "### Metrics and the Naive Predictor\n",
    "*CharityML*, equipped with their research, knows individuals that make more than \\$50,000 are most likely to donate to their charity. Because of this, *CharityML* is particularly interested in predicting who makes more than \\$50,000 accurately. It would seem that using **accuracy** as a metric for evaluating a particular model's performace would be appropriate. Additionally, identifying someone that *does not* make more than \\$50,000 as someone who does would be detrimental to *CharityML*, since they are looking to find individuals willing to donate. Therefore, a model's ability to precisely predict those that make more than \\$50,000 is *more important* than the model's ability to **recall** those individuals. We can use **F-beta score** as a metric that considers both precision and recall:\n",
    "\n",
    "$$ F_{\\beta} = (1 + \\beta^2) \\cdot \\frac{precision \\cdot recall}{\\left( \\beta^2 \\cdot precision \\right) + recall} $$\n",
    "\n",
    "In particular, when $\\beta = 0.5$, more emphasis is placed on precision. This is called the **F$_{0.5}$ score** (or F-score for simplicity).\n",
    "\n",
    "Looking at the distribution of classes (those who make at most \\$50,000, and those who make more), it's clear most individuals do not make more than \\$50,000. This can greatly affect **accuracy**, since we could simply say *\"this person does not make more than \\$50,000\"* and generally be right, without ever looking at the data! Making such a statement would be called **naive**, since we have not considered any information to substantiate the claim. It is always important to consider the *naive prediction* for your data, to help establish a benchmark for whether a model is performing well. That been said, using that prediction would be pointless: If we predicted all people made less than \\$50,000, *CharityML* would identify no one as donors. \n",
    "\n",
    "\n",
    "#### Note: Recap of accuracy, precision, recall\n",
    "\n",
    "** Accuracy ** measures how often the classifier makes the correct prediction. It’s the ratio of the number of correct predictions to the total number of predictions (the number of test data points).\n",
    "\n",
    "** Precision ** tells us what proportion of messages we classified as spam, actually were spam.\n",
    "It is a ratio of true positives(words classified as spam, and which are actually spam) to all positives(all words classified as spam, irrespective of whether that was the correct classificatio), in other words it is the ratio of\n",
    "\n",
    "`[True Positives/(True Positives + False Positives)]`\n",
    "\n",
    "** Recall(sensitivity)** tells us what proportion of messages that actually were spam were classified by us as spam.\n",
    "It is a ratio of true positives(words classified as spam, and which are actually spam) to all the words that were actually spam, in other words it is the ratio of\n",
    "\n",
    "`[True Positives/(True Positives + False Negatives)]`\n",
    "\n",
    "For classification problems that are skewed in their classification distributions like in our case, for example if we had a 100 text messages and only 2 were spam and the rest 98 weren't, accuracy by itself is not a very good metric. We could classify 90 messages as not spam(including the 2 that were spam but we classify them as not spam, hence they would be false negatives) and 10 as spam(all 10 false positives) and still get a reasonably good accuracy score. For such cases, precision and recall come in very handy. These two metrics can be combined to get the F1 score, which is weighted average(harmonic mean) of the precision and recall scores. This score can range from 0 to 1, with 1 being the best possible F1 score(we take the harmonic mean as we are dealing with ratios)."
   ]
  },
  {
   "cell_type": "markdown",
   "metadata": {},
   "source": [
    "### Question 1 - Naive Predictor Performace\n",
    "* If we chose a model that always predicted an individual made more than $50,000, what would  that model's accuracy and F-score be on this dataset? You must use the code cell below and assign your results to `'accuracy'` and `'fscore'` to be used later.\n",
    "\n",
    "** Please note ** that the the purpose of generating a naive predictor is simply to show what a base model without any intelligence would look like. In the real world, ideally your base model would be either the results of a previous model or could be based on a research paper upon which you are looking to improve. When there is no benchmark model set, getting a result better than random choice is a place you could start from.\n",
    "\n",
    "** HINT: ** \n",
    "\n",
    "* When we have a model that always predicts '1' (i.e. the individual makes more than 50k) then our model will have no True Negatives(TN) or False Negatives(FN) as we are not making any negative('0' value) predictions. Therefore our Accuracy in this case becomes the same as our Precision(True Positives/(True Positives + False Positives)) as every prediction that we have made with value '1' that should have '0' becomes a False Positive; therefore our denominator in this case is the total number of records we have in total. \n",
    "* Our Recall score(True Positives/(True Positives + False Negatives)) in this setting becomes 1 as we have no False Negatives."
   ]
  },
  {
   "cell_type": "code",
   "execution_count": 18,
   "metadata": {},
   "outputs": [
    {
     "name": "stdout",
     "output_type": "stream",
     "text": [
      "Naive Predictor: [Accuracy score: 0.2478, F-score: 0.2917]\n"
     ]
    }
   ],
   "source": [
    "'''\n",
    "TP = np.sum(income) # Counting the ones as this is the naive case. Note that 'income' is the 'income_raw' data \n",
    "encoded to numerical values done in the data preprocessing step.\n",
    "FP = income.count() - TP # Specific to the naive case\n",
    "\n",
    "TN = 0 # No predicted negatives in the naive case\n",
    "FN = 0 # No predicted negatives in the naive case\n",
    "'''\n",
    "\n",
    "TP = income.sum()\n",
    "FP = len(income) - TP\n",
    "TN = 0.0\n",
    "FN = 0.0\n",
    "\n",
    "# TODO: Calculate accuracy, precision and recall\n",
    "accuracy = TP / n_records\n",
    "recall = TP / (TP + FN)\n",
    "precision = TP / (TP + FP)\n",
    "\n",
    "# TODO: Calculate F-score using the formula above for beta = 0.5 and correct values for precision and recall.\n",
    "beta = 0.5\n",
    "\n",
    "fscore = ((1 + beta ** 2) * precision * recall) / ((beta ** 2) * precision + recall)\n",
    "\n",
    "# Print the results \n",
    "print(\"Naive Predictor: [Accuracy score: {:.4f}, F-score: {:.4f}]\".format(accuracy, fscore))"
   ]
  },
  {
   "cell_type": "markdown",
   "metadata": {},
   "source": [
    "###  Supervised Learning Models\n",
    "**The following are some of the supervised learning models that are currently available in** [`scikit-learn`](http://scikit-learn.org/stable/supervised_learning.html) **that you may choose from:**\n",
    "- Gaussian Naive Bayes (GaussianNB)\n",
    "- Decision Trees\n",
    "- Ensemble Methods (Bagging, AdaBoost, Random Forest, Gradient Boosting)\n",
    "- K-Nearest Neighbors (KNeighbors)\n",
    "- Stochastic Gradient Descent Classifier (SGDC)\n",
    "- Support Vector Machines (SVM)\n",
    "- Logistic Regression"
   ]
  },
  {
   "cell_type": "markdown",
   "metadata": {},
   "source": [
    "### Question 2 - Model Application\n",
    "List three of the supervised learning models above that are appropriate for this problem that you will test on the census data. For each model chosen\n",
    "\n",
    "- Describe one real-world application in industry where the model can be applied. \n",
    "- What are the strengths of the model; when does it perform well?\n",
    "- What are the weaknesses of the model; when does it perform poorly?\n",
    "- What makes this model a good candidate for the problem, given what you know about the data?\n",
    "\n",
    "** HINT: **\n",
    "\n",
    "Structure your answer in the same format as above^, with 4 parts for each of the three models you pick. Please include references with your answer."
   ]
  },
  {
   "cell_type": "markdown",
   "metadata": {},
   "source": [
    "**Answer:**\n",
    "## I. Support Vector Machines (SVM)\n",
    "1. #### Describe one real-world application in industry where the model can be applied.\n",
    "\n",
    "We can use SVM algorithm for recognization of hand-written characters that use for data entry and validating signatures on the bank checks, paper documents, and also from any device.\n",
    "\n",
    "2. #### What are the strengths of the model; when does it perform well?\n",
    "It scales relatively well to high dimensional data.\n",
    "SVM models have generalization in practice, the risk of over-fitting is less in SVM.\n",
    "\n",
    "3. #### What are the weaknesses of the model; when does it perform poorly?\n",
    "SVM requires full labeling of input data and Uncalibrated class membership probabilities—SVM stems from Vapnik's theory which avoids estimating probabilities on finite data\n",
    "\n",
    "4. #### What makes this model a good candidate for the problem, given what you know about the data?\n",
    "As this model works well on the binary classification it is best to choose as we have more binary classification as the target\n",
    "\n",
    "\n",
    "### References \n",
    "1. **[Wikipedia.org](http://en.wikipedia.org/wiki/Support-vector_machine#Issues)**\n",
    "2. **[Statinfer.com](https://statinfer.com/204-6-8-svm-advantages-disadvantages-applications/)**\n",
    "\n",
    "\n",
    "## II. Random Forest Classifier\n",
    "1. #### Describe one real-world application in industry where the model can be applied.\n",
    "\n",
    "In banking sector we can use this model because banking sector consists most loyal customers and also fraud customers so to determine whether the customer is a loyal or fraud we ca use Random forest classifier\n",
    "\n",
    "2. #### What are the strengths of the model; when does it perform well?\n",
    "It has the power to handle a large data set with higher dimensionality\n",
    "\n",
    "3. #### What are the weaknesses of the model; when does it perform poorly?\n",
    " the Complexity of Random Forest is it creates a lot of trees and combines their outputs.\n",
    "\n",
    "4. #### What makes this model a good candidate for the problem, given what you know about the data?\n",
    "As our data is very high and random forest classifier has power to handle a large data set with higher dimensionality we choose it.\n",
    "\n",
    "### References\n",
    "1. [newgeapps](https://www.newgenapps.com/blog/random-forest-analysis-in-ml-and-when-to-use-it)\n",
    "2. [theprofessionalspoint](http://theprofessionalspoint.blogspot.com/2019/02/advantages-and-disadvantages-of-random.html)\n",
    "\n",
    "## III. AdaBoost Classifier\n",
    "\n",
    "1. #### Describe one real-world application in industry where the model can be applied.\n",
    "it can be applied as facial detector in any security systems, commuricial buildings etc\n",
    "\n",
    "2. #### What are the strengths of the model; when does it perform well?\n",
    "the main strenght os the Adaboost classifier is it runs very fast\n",
    "\n",
    "3. #### What are the weaknesses of the model; when does it perform poorly?\n",
    "The Weakness of the model is it overfits the data if there is any noise in the data\n",
    "\n",
    "4. #### What makes this model a good candidate for the problem, given what you know about the data?\n",
    "As the target of our model is of binary classification the AdaBoost classifier classifies it very well\n",
    "\n",
    "### References\n",
    "\n",
    "1. **[Data-Flair](https://data-flair.training/blogs/adaboost-algorithm/)**\n",
    "2. **[cecs](http://users.cecs.anu.edu.au/~wanglei/SPR_course/boosting.pdf)**"
   ]
  },
  {
   "cell_type": "markdown",
   "metadata": {},
   "source": [
    "### Implementation - Creating a Training and Predicting Pipeline\n",
    "To properly evaluate the performance of each model you've chosen, it's important that you create a training and predicting pipeline that allows you to quickly and effectively train models using various sizes of training data and perform predictions on the testing data. Your implementation here will be used in the following section.\n",
    "In the code block below, you will need to implement the following:\n",
    " - Import `fbeta_score` and `accuracy_score` from [`sklearn.metrics`](http://scikit-learn.org/stable/modules/classes.html#sklearn-metrics-metrics).\n",
    " - Fit the learner to the sampled training data and record the training time.\n",
    " - Perform predictions on the test data `X_test`, and also on the first 300 training points `X_train[:300]`.\n",
    "   - Record the total prediction time.\n",
    " - Calculate the accuracy score for both the training subset and testing set.\n",
    " - Calculate the F-score for both the training subset and testing set.\n",
    "   - Make sure that you set the `beta` parameter!"
   ]
  },
  {
   "cell_type": "code",
   "execution_count": 11,
   "metadata": {},
   "outputs": [],
   "source": [
    "# TODO: Import two metrics from sklearn - fbeta_score and accuracy_score\n",
    "from sklearn.metrics import accuracy_score, fbeta_score\n",
    "def train_predict(learner, sample_size, X_train, y_train, X_test, y_test): \n",
    "    '''\n",
    "    inputs:\n",
    "       - learner: the learning algorithm to be trained and predicted on\n",
    "       - sample_size: the size of samples (number) to be drawn from training set\n",
    "       - X_train: features training set\n",
    "       - y_train: income training set\n",
    "       - X_test: features testing set\n",
    "       - y_test: income testing set\n",
    "    '''\n",
    "    \n",
    "    results = {}\n",
    "    \n",
    "    # TODO: Fit the learner to the training data using slicing with 'sample_size' using .fit(training_features[:], training_labels[:])\n",
    "    start = time() # Get start time\n",
    "    learner.fit(X_train[:sample_size], y_train[:sample_size])\n",
    "    end = time() # Get end time\n",
    "    \n",
    "    # TODO: Calculate the training time\n",
    "    results['train_time'] = end - start\n",
    "        \n",
    "    # TODO: Get the predictions on the test set(X_test),\n",
    "    #       then get predictions on the first 300 training samples(X_train) using .predict()\n",
    "    start = time() # Get start time\n",
    "    predictions_test = learner.predict(X_test)\n",
    "    predictions_train = learner.predict(X_train[:300])\n",
    "    end = time() # Get end time\n",
    "    \n",
    "    # TODO: Calculate the total prediction time\n",
    "    results['pred_time'] = end - start\n",
    "            \n",
    "    # TODO: Compute accuracy on the first 300 training samples which is y_train[:300]\n",
    "    results['acc_train'] = accuracy_score(y_train[:300], predictions_train)\n",
    "        \n",
    "    # TODO: Compute accuracy on test set using accuracy_score()\n",
    "    results['acc_test'] = accuracy_score(y_test, predictions_test)\n",
    "    \n",
    "    # TODO: Compute F-score on the the first 300 training samples using fbeta_score()\n",
    "    results['f_train'] = fbeta_score(y_train[:300], predictions_train, 0.5) # here 0.5 is the beta assumed\n",
    "        \n",
    "    # TODO: Compute F-score on the test set which is y_test\n",
    "    results['f_test'] = fbeta_score(y_test, predictions_test, 0.5)\n",
    "       \n",
    "    # Success\n",
    "    print(\"{} trained on {} samples.\".format(learner.__class__.__name__, sample_size))\n",
    "        \n",
    "    # Return the results\n",
    "    return results"
   ]
  },
  {
   "cell_type": "markdown",
   "metadata": {},
   "source": [
    "### Implementation: Initial Model Evaluation\n",
    "In the code cell, you will need to implement the following:\n",
    "- Import the three supervised learning models you've discussed in the previous section.\n",
    "- Initialize the three models and store them in `'clf_A'`, `'clf_B'`, and `'clf_C'`.\n",
    "  - Use a `'random_state'` for each model you use, if provided.\n",
    "  - **Note:** Use the default settings for each model — you will tune one specific model in a later section.\n",
    "- Calculate the number of records equal to 1%, 10%, and 100% of the training data.\n",
    "  - Store those values in `'samples_1'`, `'samples_10'`, and `'samples_100'` respectively.\n",
    "\n",
    "**Note:** Depending on which algorithms you chose, the following implementation may take some time to run!"
   ]
  },
  {
   "cell_type": "code",
   "execution_count": 20,
   "metadata": {},
   "outputs": [
    {
     "name": "stderr",
     "output_type": "stream",
     "text": [
      "/opt/conda/lib/python3.6/site-packages/sklearn/metrics/classification.py:1135: UndefinedMetricWarning: F-score is ill-defined and being set to 0.0 due to no predicted samples.\n",
      "  'precision', 'predicted', average, warn_for)\n"
     ]
    },
    {
     "name": "stdout",
     "output_type": "stream",
     "text": [
      "SVC trained on 361 samples.\n",
      "SVC trained on 3617 samples.\n",
      "SVC trained on 36177 samples.\n",
      "AdaBoostClassifier trained on 361 samples.\n",
      "AdaBoostClassifier trained on 3617 samples.\n",
      "AdaBoostClassifier trained on 36177 samples.\n",
      "RandomForestClassifier trained on 361 samples.\n",
      "RandomForestClassifier trained on 3617 samples.\n",
      "RandomForestClassifier trained on 36177 samples.\n"
     ]
    },
    {
     "data": {
      "image/png": "[encoded data removed]",
      "text/plain": [
       "<matplotlib.figure.Figure at 0x7f4e67fc6c18>"
      ]
     },
     "metadata": {
      "needs_background": "light"
     },
     "output_type": "display_data"
    }
   ],
   "source": [
    "# TODO: Import the three supervised learning models from sklearn\n",
    "\n",
    "from sklearn.svm import SVC\n",
    "from sklearn.ensemble import AdaBoostClassifier, RandomForestClassifier\n",
    "# TODO: Initialize the three models\n",
    "clf_A = SVC(random_state = 7)\n",
    "clf_B = AdaBoostClassifier(random_state=7)\n",
    "clf_C = RandomForestClassifier(random_state = 7)\n",
    "\n",
    "# TODO: Calculate the number of samples for 1%, 10%, and 100% of the training data\n",
    "# HINT: samples_100 is the entire training set i.e. len(y_train)\n",
    "# HINT: samples_10 is 10% of samples_100 (ensure to set the count of the values to be `int` and not `float`)\n",
    "# HINT: samples_1 is 1% of samples_100 (ensure to set the count of the values to be `int` and not `float`)\n",
    "samples_100 = y_train.shape[0]\n",
    "samples_10 = samples_100 // 10\n",
    "samples_1 = samples_10 // 10\n",
    "\n",
    "# Collect results on the learners\n",
    "results = {}\n",
    "for clf in [clf_A, clf_B, clf_C]:\n",
    "    clf_name = clf.__class__.__name__\n",
    "    results[clf_name] = {}\n",
    "    for i, samples in enumerate([samples_1, samples_10, samples_100]):\n",
    "        results[clf_name][i] = \\\n",
    "        train_predict(clf, samples, X_train, y_train, X_test, y_test)\n",
    "\n",
    "# Run metrics visualization for the three supervised learning models chosen\n",
    "vs.evaluate(results, accuracy, fscore)"
   ]
  },
  {
   "cell_type": "markdown",
   "metadata": {},
   "source": [
    "----\n",
    "## Improving Results\n",
    "In this final section, you will choose from the three supervised learning models the *best* model to use on the student data. You will then perform a grid search optimization for the model over the entire training set (`X_train` and `y_train`) by tuning at least one parameter to improve upon the untuned model's F-score. "
   ]
  },
  {
   "cell_type": "markdown",
   "metadata": {},
   "source": [
    "### Question 3 - Choosing the Best Model\n",
    "\n",
    "* Based on the evaluation you performed earlier, in one to two paragraphs, explain to *CharityML* which of the three models you believe to be most appropriate for the task of identifying individuals that make more than \\$50,000. \n",
    "\n",
    "** HINT: ** \n",
    "Look at the graph at the bottom left from the cell above(the visualization created by `vs.evaluate(results, accuracy, fscore)`) and check the F score for the testing set when 100% of the training set is used. Which model has the highest score? Your answer should include discussion of the:\n",
    "* metrics - F score on the testing when 100% of the training data is used, \n",
    "* prediction/training time\n",
    "* the algorithm's suitability for the data."
   ]
  },
  {
   "cell_type": "markdown",
   "metadata": {},
   "source": [
    "**Answer:**\n",
    "\n",
    "1. By observing the above Training set size vs F-score graph we can say that the highest F-score for the testing size of 100% of the training data is Adaboost classifier which I got of approxmately 0.74 which is best compared to other two algorithms.\n",
    "2. The time taken for the training using Adaboost classifier algorithm is less than 2.5 sec and prediction is less than 1.25 sec which is less time while compared to SVC.\n",
    "3. As per the present Dataset I think the best algorithm is Adaboost Classifier because while in training fscore is lesser than randomforest but while training this is the best classifier and also training/testing time is less.\n"
   ]
  },
  {
   "cell_type": "markdown",
   "metadata": {},
   "source": [
    "### Question 4 - Describing the Model in Layman's Terms\n",
    "\n",
    "* In one to two paragraphs, explain to *CharityML*, in layman's terms, how the final model chosen is supposed to work. Be sure that you are describing the major qualities of the model, such as how the model is trained and how the model makes a prediction. Avoid using advanced mathematical jargon, such as describing equations.\n",
    "\n",
    "**HINT:**\n",
    "\n",
    "When explaining your model, if using external resources please include all citations."
   ]
  },
  {
   "attachments": {
    "image.png": {
     "image/png": "[encoded data removed]"
    }
   },
   "cell_type": "markdown",
   "metadata": {},
   "source": [
    "**Answer:** \n",
    "\n",
    "Every algorithm will AdaBoost boosting is a one of the best machine learning technique for working on contunious type of data i.e as a regressor or categorical type of data i.e, as a classifier. also it is iterative ensemble method and also it is a exponential loss minimization algorithm.\n",
    "\n",
    "### AdaBoost algorithm working\n",
    "\n",
    "1. Initially, Adaboost selects a training subset randomly.\n",
    "- It iteratively trains the AdaBoost machine learning model by selecting the training set based on the accuracy of the last training.\n",
    "- Also, it assigns the weight to the trained classifier in each iteration according to the accuracy of the classifier. The more accurate classifier will get high weight say 1 and less accurate classifier will get low weight say -1.\n",
    "\n",
    "\n",
    "![image.png](attachment:image.png)\n",
    "\n",
    "5. This process iterate until the complete training data fits without any error or until reached to the specified maximum number of weak learners to train i.e. estimators.\n",
    "\n",
    "\n",
    "Finally, Adaboost Algorithm produces a prediction model in the form of an ensemble of weak prediction models typically decision trees. AdaBoost Classifier would be the best model for this problem. Using this single strong prediction rule created with individual values. we already know that the income is greater or less than  50,000 USD  the Adaboost algorithm can look at new individuals data and predict if the person makes more than 50,000\\$ or not.\n",
    "\n",
    "### reference:\n",
    "\n",
    "- **[datacamp community tutorials](https://www.datacamp.com/community/tutorials/adaboost-classifier-python)**"
   ]
  },
  {
   "cell_type": "markdown",
   "metadata": {},
   "source": [
    "### Implementation: Model Tuning\n",
    "Fine tune the chosen model. Use grid search (`GridSearchCV`) with at least one important parameter tuned with at least 3 different values. You will need to use the entire training set for this. In the code cell below, you will need to implement the following:\n",
    "- Import [`sklearn.grid_search.GridSearchCV`](http://scikit-learn.org/0.17/modules/generated/sklearn.grid_search.GridSearchCV.html) and [`sklearn.metrics.make_scorer`](http://scikit-learn.org/stable/modules/generated/sklearn.metrics.make_scorer.html).\n",
    "- Initialize the classifier you've chosen and store it in `clf`.\n",
    " - Set a `random_state` if one is available to the same state you set before.\n",
    "- Create a dictionary of parameters you wish to tune for the chosen model.\n",
    " - Example: `parameters = {'parameter' : [list of values]}`.\n",
    " - **Note:** Avoid tuning the `max_features` parameter of your learner if that parameter is available!\n",
    "- Use `make_scorer` to create an `fbeta_score` scoring object (with $\\beta = 0.5$).\n",
    "- Perform grid search on the classifier `clf` using the `'scorer'`, and store it in `grid_obj`.\n",
    "- Fit the grid search object to the training data (`X_train`, `y_train`), and store it in `grid_fit`.\n",
    "\n",
    "**Note:** Depending on the algorithm chosen and the parameter list, the following implementation may take some time to run!"
   ]
  },
  {
   "cell_type": "code",
   "execution_count": 24,
   "metadata": {
    "scrolled": true
   },
   "outputs": [
    {
     "name": "stdout",
     "output_type": "stream",
     "text": [
      "Fitting 3 folds for each of 48 candidates, totalling 144 fits\n",
      "[CV] algorithm=SAMME, learning_rate=0.1, n_estimators=50 .............\n",
      "[CV] algorithm=SAMME, learning_rate=0.1, n_estimators=50 .............\n",
      "[CV] algorithm=SAMME, learning_rate=0.1, n_estimators=50 .............\n",
      "[CV] algorithm=SAMME, learning_rate=0.1, n_estimators=250 ............\n",
      "[CV] algorithm=SAMME, learning_rate=0.1, n_estimators=250 ............\n",
      "[CV] algorithm=SAMME, learning_rate=0.1, n_estimators=250 ............\n",
      "[CV] algorithm=SAMME, learning_rate=0.1, n_estimators=500 ............\n",
      "[CV] algorithm=SAMME, learning_rate=0.1, n_estimators=500 ............\n",
      "[CV] algorithm=SAMME, learning_rate=0.1, n_estimators=500 ............\n",
      "[CV] algorithm=SAMME, learning_rate=0.1, n_estimators=750 ............\n",
      "[CV]  algorithm=SAMME, learning_rate=0.1, n_estimators=50, score=0.6769959538142702, total=  14.9s\n",
      "[CV]  algorithm=SAMME, learning_rate=0.1, n_estimators=50, score=0.45444982116557964, total=  14.8s\n",
      "[CV] algorithm=SAMME, learning_rate=0.1, n_estimators=750 ............\n",
      "[CV]  algorithm=SAMME, learning_rate=0.1, n_estimators=50, score=0.6818851251840943, total=  15.1s\n",
      "[CV] algorithm=SAMME, learning_rate=0.1, n_estimators=750 ............\n",
      "[CV] algorithm=SAMME, learning_rate=0.2, n_estimators=50 .............\n",
      "[CV]  algorithm=SAMME, learning_rate=0.2, n_estimators=50, score=0.6978622327790973, total=  14.6s\n",
      "[CV] algorithm=SAMME, learning_rate=0.2, n_estimators=50 .............\n",
      "[CV]  algorithm=SAMME, learning_rate=0.2, n_estimators=50, score=0.6866214489334512, total=  14.6s\n",
      "[CV] algorithm=SAMME, learning_rate=0.2, n_estimators=50 .............\n"
     ]
    },
    {
     "name": "stderr",
     "output_type": "stream",
     "text": [
      "[Parallel(n_jobs=10)]: Done   5 tasks      | elapsed:   48.4s\n"
     ]
    },
    {
     "name": "stdout",
     "output_type": "stream",
     "text": [
      "[CV]  algorithm=SAMME, learning_rate=0.2, n_estimators=50, score=0.7026634884443983, total=  14.6s\n",
      "[CV] algorithm=SAMME, learning_rate=0.2, n_estimators=250 ............\n",
      "[CV]  algorithm=SAMME, learning_rate=0.1, n_estimators=250, score=0.7067520946278955, total= 1.2min\n",
      "[CV]  algorithm=SAMME, learning_rate=0.1, n_estimators=250, score=0.7068516912402428, total= 1.2min\n",
      "[CV] algorithm=SAMME, learning_rate=0.2, n_estimators=250 ............\n",
      "[CV]  algorithm=SAMME, learning_rate=0.1, n_estimators=250, score=0.7145742854257144, total= 1.2min\n",
      "[CV] algorithm=SAMME, learning_rate=0.2, n_estimators=250 ............\n",
      "[CV] algorithm=SAMME, learning_rate=0.2, n_estimators=500 ............\n",
      "[CV]  algorithm=SAMME, learning_rate=0.2, n_estimators=250, score=0.7211234534453175, total= 1.2min\n",
      "[CV] algorithm=SAMME, learning_rate=0.2, n_estimators=500 ............\n",
      "[CV]  algorithm=SAMME, learning_rate=0.1, n_estimators=500, score=0.7220924801494629, total= 2.4min\n",
      "[CV] algorithm=SAMME, learning_rate=0.2, n_estimators=500 ............\n",
      "[CV]  algorithm=SAMME, learning_rate=0.1, n_estimators=500, score=0.7232102143182852, total= 2.4min\n",
      "[CV] algorithm=SAMME, learning_rate=0.2, n_estimators=750 ............\n"
     ]
    },
    {
     "name": "stderr",
     "output_type": "stream",
     "text": [
      "[Parallel(n_jobs=10)]: Done  12 tasks      | elapsed:  2.6min\n"
     ]
    },
    {
     "name": "stdout",
     "output_type": "stream",
     "text": [
      "[CV]  algorithm=SAMME, learning_rate=0.1, n_estimators=500, score=0.7252747252747254, total= 2.4min\n",
      "[CV]  algorithm=SAMME, learning_rate=0.2, n_estimators=250, score=0.7215750022577441, total= 1.2min\n",
      "[CV] algorithm=SAMME, learning_rate=0.2, n_estimators=750 ............\n",
      "[CV] algorithm=SAMME, learning_rate=0.2, n_estimators=750 ............\n",
      "[CV]  algorithm=SAMME, learning_rate=0.2, n_estimators=250, score=0.7259056086257448, total= 1.2min\n",
      "[CV] algorithm=SAMME, learning_rate=0.3, n_estimators=50 .............\n",
      "[CV]  algorithm=SAMME, learning_rate=0.3, n_estimators=50, score=0.7019333527640145, total=  14.5s\n",
      "[CV] algorithm=SAMME, learning_rate=0.3, n_estimators=50 .............\n",
      "[CV]  algorithm=SAMME, learning_rate=0.3, n_estimators=50, score=0.6963872396095401, total=  14.4s\n",
      "[CV] algorithm=SAMME, learning_rate=0.3, n_estimators=50 .............\n",
      "[CV]  algorithm=SAMME, learning_rate=0.3, n_estimators=50, score=0.7102716203559164, total=  14.6s\n",
      "[CV] algorithm=SAMME, learning_rate=0.3, n_estimators=250 ............\n",
      "[CV]  algorithm=SAMME, learning_rate=0.1, n_estimators=750, score=0.7216860001771007, total= 3.6min\n",
      "[CV] algorithm=SAMME, learning_rate=0.3, n_estimators=250 ............\n",
      "[CV]  algorithm=SAMME, learning_rate=0.2, n_estimators=500, score=0.7238287773578272, total= 2.4min\n",
      "[CV] algorithm=SAMME, learning_rate=0.3, n_estimators=250 ............\n",
      "[CV]  algorithm=SAMME, learning_rate=0.1, n_estimators=750, score=0.7211747328177948, total= 3.5min\n",
      "[CV] algorithm=SAMME, learning_rate=0.3, n_estimators=500 ............\n"
     ]
    },
    {
     "name": "stderr",
     "output_type": "stream",
     "text": [
      "[Parallel(n_jobs=10)]: Done  21 tasks      | elapsed:  4.1min\n"
     ]
    },
    {
     "name": "stdout",
     "output_type": "stream",
     "text": [
      "[CV]  algorithm=SAMME, learning_rate=0.1, n_estimators=750, score=0.7276869471991424, total= 3.6min\n",
      "[CV] algorithm=SAMME, learning_rate=0.3, n_estimators=500 ............\n",
      "[CV]  algorithm=SAMME, learning_rate=0.3, n_estimators=250, score=0.7207877461706783, total= 1.2min\n",
      "[CV] algorithm=SAMME, learning_rate=0.3, n_estimators=500 ............\n",
      "[CV]  algorithm=SAMME, learning_rate=0.2, n_estimators=500, score=0.7248104931436844, total= 2.4min\n",
      "[CV] algorithm=SAMME, learning_rate=0.3, n_estimators=750 ............\n",
      "[CV]  algorithm=SAMME, learning_rate=0.2, n_estimators=500, score=0.7273047459716473, total= 2.4min\n",
      "[CV] algorithm=SAMME, learning_rate=0.3, n_estimators=750 ............\n",
      "[CV]  algorithm=SAMME, learning_rate=0.3, n_estimators=250, score=0.7201628636864874, total= 1.2min\n",
      "[CV]  algorithm=SAMME, learning_rate=0.3, n_estimators=250, score=0.7266085731889798, total= 1.2min\n",
      "[CV] algorithm=SAMME, learning_rate=0.3, n_estimators=750 ............\n",
      "[CV] algorithm=SAMME, learning_rate=0.5, n_estimators=50 .............\n",
      "[CV]  algorithm=SAMME, learning_rate=0.5, n_estimators=50, score=0.7146167392714802, total=  14.4s\n",
      "[CV] algorithm=SAMME, learning_rate=0.5, n_estimators=50 .............\n",
      "[CV]  algorithm=SAMME, learning_rate=0.5, n_estimators=50, score=0.7117789975704131, total=  14.4s\n",
      "[CV] algorithm=SAMME, learning_rate=0.5, n_estimators=50 .............\n",
      "[CV]  algorithm=SAMME, learning_rate=0.5, n_estimators=50, score=0.7186340721012081, total=  14.5s\n",
      "[CV] algorithm=SAMME, learning_rate=0.5, n_estimators=250 ............\n"
     ]
    },
    {
     "name": "stderr",
     "output_type": "stream",
     "text": [
      "[Parallel(n_jobs=10)]: Done  30 tasks      | elapsed:  5.9min\n"
     ]
    },
    {
     "name": "stdout",
     "output_type": "stream",
     "text": [
      "[CV]  algorithm=SAMME, learning_rate=0.2, n_estimators=750, score=0.7252946509519493, total= 3.5min\n",
      "[CV]  algorithm=SAMME, learning_rate=0.2, n_estimators=750, score=0.7238278180389417, total= 3.5min\n",
      "[CV] algorithm=SAMME, learning_rate=0.5, n_estimators=250 ............\n",
      "[CV] algorithm=SAMME, learning_rate=0.5, n_estimators=250 ............\n",
      "[CV]  algorithm=SAMME, learning_rate=0.2, n_estimators=750, score=0.727685193264113, total= 3.5min\n",
      "[CV] algorithm=SAMME, learning_rate=0.5, n_estimators=500 ............\n",
      "[CV]  algorithm=SAMME, learning_rate=0.3, n_estimators=500, score=0.7265999129299086, total= 2.4min\n",
      "[CV] algorithm=SAMME, learning_rate=0.5, n_estimators=500 ............\n",
      "[CV]  algorithm=SAMME, learning_rate=0.3, n_estimators=500, score=0.7236462540179674, total= 2.4min\n",
      "[CV] algorithm=SAMME, learning_rate=0.5, n_estimators=500 ............\n",
      "[CV]  algorithm=SAMME, learning_rate=0.5, n_estimators=250, score=0.7240197307917399, total= 1.2min\n",
      "[CV] algorithm=SAMME, learning_rate=0.5, n_estimators=750 ............\n",
      "[CV]  algorithm=SAMME, learning_rate=0.3, n_estimators=500, score=0.7274706138441446, total= 2.4min\n",
      "[CV] algorithm=SAMME, learning_rate=0.5, n_estimators=750 ............\n",
      "[CV]  algorithm=SAMME, learning_rate=0.5, n_estimators=250, score=0.7258664901977003, total= 1.2min\n",
      "[CV] algorithm=SAMME, learning_rate=0.5, n_estimators=750 ............\n",
      "[CV]  algorithm=SAMME, learning_rate=0.5, n_estimators=250, score=0.7265699643880831, total= 1.2min\n",
      "[CV] algorithm=SAMME, learning_rate=0.8, n_estimators=50 .............\n",
      "[CV]  algorithm=SAMME, learning_rate=0.8, n_estimators=50, score=0.7137261728609975, total=  14.5s\n",
      "[CV] algorithm=SAMME, learning_rate=0.8, n_estimators=50 .............\n",
      "[CV]  algorithm=SAMME, learning_rate=0.8, n_estimators=50, score=0.7176826632079552, total=  14.5s\n",
      "[CV] algorithm=SAMME, learning_rate=0.8, n_estimators=50 .............\n"
     ]
    },
    {
     "name": "stderr",
     "output_type": "stream",
     "text": [
      "[Parallel(n_jobs=10)]: Done  41 tasks      | elapsed:  8.1min\n"
     ]
    },
    {
     "name": "stdout",
     "output_type": "stream",
     "text": [
      "[CV]  algorithm=SAMME, learning_rate=0.8, n_estimators=50, score=0.7229296486950241, total=  14.4s\n",
      "[CV] algorithm=SAMME, learning_rate=0.8, n_estimators=250 ............\n",
      "[CV]  algorithm=SAMME, learning_rate=0.3, n_estimators=750, score=0.7262096432505721, total= 3.5min\n",
      "[CV] algorithm=SAMME, learning_rate=0.8, n_estimators=250 ............\n",
      "[CV]  algorithm=SAMME, learning_rate=0.3, n_estimators=750, score=0.7239707453365107, total= 3.5min\n",
      "[CV] algorithm=SAMME, learning_rate=0.8, n_estimators=250 ............\n",
      "[CV]  algorithm=SAMME, learning_rate=0.5, n_estimators=500, score=0.7234939261218082, total= 2.4min\n",
      "[CV] algorithm=SAMME, learning_rate=0.8, n_estimators=500 ............\n",
      "[CV]  algorithm=SAMME, learning_rate=0.3, n_estimators=750, score=0.7249978575713428, total= 3.5min\n",
      "[CV] algorithm=SAMME, learning_rate=0.8, n_estimators=500 ............\n",
      "[CV]  algorithm=SAMME, learning_rate=0.5, n_estimators=500, score=0.7262685823436592, total= 2.4min\n",
      "[CV] algorithm=SAMME, learning_rate=0.8, n_estimators=500 ............\n",
      "[CV]  algorithm=SAMME, learning_rate=0.5, n_estimators=500, score=0.7237337798241943, total= 2.4min\n",
      "[CV] algorithm=SAMME, learning_rate=0.8, n_estimators=750 ............\n",
      "[CV]  algorithm=SAMME, learning_rate=0.8, n_estimators=250, score=0.7207915873147305, total= 1.2min\n",
      "[CV] algorithm=SAMME, learning_rate=0.8, n_estimators=750 ............\n",
      "[CV]  algorithm=SAMME, learning_rate=0.8, n_estimators=250, score=0.7199737295788522, total= 1.2min\n",
      "[CV] algorithm=SAMME, learning_rate=0.8, n_estimators=750 ............\n",
      "[CV]  algorithm=SAMME, learning_rate=0.8, n_estimators=250, score=0.7225079598334558, total= 1.2min\n",
      "[CV] algorithm=SAMME, learning_rate=1, n_estimators=50 ...............\n",
      "[CV]  algorithm=SAMME, learning_rate=1, n_estimators=50, score=0.7079237038904294, total=  14.5s\n",
      "[CV] algorithm=SAMME, learning_rate=1, n_estimators=50 ...............\n"
     ]
    },
    {
     "name": "stderr",
     "output_type": "stream",
     "text": [
      "[Parallel(n_jobs=10)]: Done  52 tasks      | elapsed: 10.4min\n"
     ]
    },
    {
     "name": "stdout",
     "output_type": "stream",
     "text": [
      "[CV]  algorithm=SAMME, learning_rate=1, n_estimators=50, score=0.7159177456207159, total=  14.5s\n",
      "[CV] algorithm=SAMME, learning_rate=1, n_estimators=50 ...............\n",
      "[CV]  algorithm=SAMME, learning_rate=1, n_estimators=50, score=0.7215455690886182, total=  14.4s\n",
      "[CV] algorithm=SAMME, learning_rate=1, n_estimators=250 ..............\n",
      "[CV]  algorithm=SAMME, learning_rate=0.5, n_estimators=750, score=0.7245124660577635, total= 3.5min\n",
      "[CV] algorithm=SAMME, learning_rate=1, n_estimators=250 ..............\n",
      "[CV]  algorithm=SAMME, learning_rate=0.5, n_estimators=750, score=0.726130859535342, total= 3.6min\n",
      "[CV] algorithm=SAMME, learning_rate=1, n_estimators=250 ..............\n",
      "[CV]  algorithm=SAMME, learning_rate=0.5, n_estimators=750, score=0.72736393278154, total= 3.6min\n",
      "[CV] algorithm=SAMME, learning_rate=1, n_estimators=500 ..............\n",
      "[CV]  algorithm=SAMME, learning_rate=0.8, n_estimators=500, score=0.7221901065323313, total= 2.4min\n",
      "[CV] algorithm=SAMME, learning_rate=1, n_estimators=500 ..............\n",
      "[CV]  algorithm=SAMME, learning_rate=0.8, n_estimators=500, score=0.7205774406655249, total= 2.4min\n",
      "[CV] algorithm=SAMME, learning_rate=1, n_estimators=500 ..............\n",
      "[CV]  algorithm=SAMME, learning_rate=0.8, n_estimators=500, score=0.7221556886227545, total= 2.4min\n",
      "[CV] algorithm=SAMME, learning_rate=1, n_estimators=750 ..............\n",
      "[CV]  algorithm=SAMME, learning_rate=1, n_estimators=250, score=0.719712276731593, total= 1.2min\n",
      "[CV] algorithm=SAMME, learning_rate=1, n_estimators=750 ..............\n",
      "[CV]  algorithm=SAMME, learning_rate=1, n_estimators=250, score=0.7165386170642943, total= 1.2min\n",
      "[CV] algorithm=SAMME, learning_rate=1, n_estimators=750 ..............\n",
      "[CV]  algorithm=SAMME, learning_rate=1, n_estimators=250, score=0.7230043128000652, total= 1.2min\n",
      "[CV] algorithm=SAMME.R, learning_rate=0.1, n_estimators=50 ...........\n",
      "[CV]  algorithm=SAMME.R, learning_rate=0.1, n_estimators=50, score=0.7059870701770824, total=  16.6s\n",
      "[CV] algorithm=SAMME.R, learning_rate=0.1, n_estimators=50 ...........\n",
      "[CV]  algorithm=SAMME.R, learning_rate=0.1, n_estimators=50, score=0.711204830825266, total=  16.6s\n",
      "[CV] algorithm=SAMME.R, learning_rate=0.1, n_estimators=50 ...........\n"
     ]
    },
    {
     "name": "stderr",
     "output_type": "stream",
     "text": [
      "[Parallel(n_jobs=10)]: Done  65 tasks      | elapsed: 12.9min\n"
     ]
    },
    {
     "name": "stdout",
     "output_type": "stream",
     "text": [
      "[CV]  algorithm=SAMME, learning_rate=0.8, n_estimators=750, score=0.7234094816998281, total= 3.6min\n",
      "[CV] algorithm=SAMME.R, learning_rate=0.1, n_estimators=250 ..........\n",
      "[CV]  algorithm=SAMME.R, learning_rate=0.1, n_estimators=50, score=0.7118525197875963, total=  16.5s\n",
      "[CV] algorithm=SAMME.R, learning_rate=0.1, n_estimators=250 ..........\n",
      "[CV]  algorithm=SAMME, learning_rate=0.8, n_estimators=750, score=0.722641969290763, total= 3.5min\n",
      "[CV] algorithm=SAMME.R, learning_rate=0.1, n_estimators=250 ..........\n",
      "[CV]  algorithm=SAMME, learning_rate=0.8, n_estimators=750, score=0.7257087472740489, total= 3.5min\n",
      "[CV] algorithm=SAMME.R, learning_rate=0.1, n_estimators=500 ..........\n",
      "[CV]  algorithm=SAMME, learning_rate=1, n_estimators=500, score=0.7261663286004056, total= 2.4min\n",
      "[CV] algorithm=SAMME.R, learning_rate=0.1, n_estimators=500 ..........\n",
      "[CV]  algorithm=SAMME, learning_rate=1, n_estimators=500, score=0.7195440512942294, total= 2.4min\n",
      "[CV] algorithm=SAMME.R, learning_rate=0.1, n_estimators=500 ..........\n",
      "[CV]  algorithm=SAMME, learning_rate=1, n_estimators=500, score=0.7236037505095799, total= 2.4min\n",
      "[CV] algorithm=SAMME.R, learning_rate=0.1, n_estimators=750 ..........\n",
      "[CV]  algorithm=SAMME.R, learning_rate=0.1, n_estimators=250, score=0.7267514335577163, total= 1.4min\n",
      "[CV] algorithm=SAMME.R, learning_rate=0.1, n_estimators=750 ..........\n",
      "[CV]  algorithm=SAMME.R, learning_rate=0.1, n_estimators=250, score=0.7277727608570724, total= 1.4min\n",
      "[CV] algorithm=SAMME.R, learning_rate=0.1, n_estimators=750 ..........\n",
      "[CV]  algorithm=SAMME.R, learning_rate=0.1, n_estimators=250, score=0.7288193553902709, total= 1.4min\n",
      "[CV] algorithm=SAMME.R, learning_rate=0.2, n_estimators=50 ...........\n",
      "[CV]  algorithm=SAMME.R, learning_rate=0.2, n_estimators=50, score=0.7218741487333151, total=  16.5s\n",
      "[CV] algorithm=SAMME.R, learning_rate=0.2, n_estimators=50 ...........\n",
      "[CV]  algorithm=SAMME, learning_rate=1, n_estimators=750, score=0.7246904588492353, total= 3.6min\n",
      "[CV] algorithm=SAMME.R, learning_rate=0.2, n_estimators=50 ...........\n",
      "[CV]  algorithm=SAMME.R, learning_rate=0.2, n_estimators=50, score=0.7214455288841993, total=  16.4s\n",
      "[CV] algorithm=SAMME.R, learning_rate=0.2, n_estimators=250 ..........\n"
     ]
    },
    {
     "name": "stderr",
     "output_type": "stream",
     "text": [
      "[Parallel(n_jobs=10)]: Done  78 tasks      | elapsed: 15.6min\n"
     ]
    },
    {
     "name": "stdout",
     "output_type": "stream",
     "text": [
      "[CV]  algorithm=SAMME.R, learning_rate=0.2, n_estimators=50, score=0.7265676105036913, total=  16.4s\n",
      "[CV] algorithm=SAMME.R, learning_rate=0.2, n_estimators=250 ..........\n",
      "[CV]  algorithm=SAMME, learning_rate=1, n_estimators=750, score=0.7253000556394563, total= 3.5min\n",
      "[CV] algorithm=SAMME.R, learning_rate=0.2, n_estimators=250 ..........\n",
      "[CV]  algorithm=SAMME, learning_rate=1, n_estimators=750, score=0.7249735707896234, total= 3.5min\n",
      "[CV] algorithm=SAMME.R, learning_rate=0.2, n_estimators=500 ..........\n",
      "[CV]  algorithm=SAMME.R, learning_rate=0.1, n_estimators=500, score=0.7320180846691327, total= 2.7min\n",
      "[CV] algorithm=SAMME.R, learning_rate=0.2, n_estimators=500 ..........\n",
      "[CV]  algorithm=SAMME.R, learning_rate=0.1, n_estimators=500, score=0.730199033499877, total= 2.7min\n",
      "[CV] algorithm=SAMME.R, learning_rate=0.2, n_estimators=500 ..........\n",
      "[CV]  algorithm=SAMME.R, learning_rate=0.1, n_estimators=500, score=0.7299798792756539, total= 2.7min\n",
      "[CV] algorithm=SAMME.R, learning_rate=0.2, n_estimators=750 ..........\n",
      "[CV]  algorithm=SAMME.R, learning_rate=0.2, n_estimators=250, score=0.7322879894918316, total= 1.3min\n",
      "[CV] algorithm=SAMME.R, learning_rate=0.2, n_estimators=750 ..........\n",
      "[CV]  algorithm=SAMME.R, learning_rate=0.2, n_estimators=250, score=0.7303100713083887, total= 1.3min\n",
      "[CV] algorithm=SAMME.R, learning_rate=0.2, n_estimators=750 ..........\n",
      "[CV]  algorithm=SAMME.R, learning_rate=0.2, n_estimators=250, score=0.7272652860767782, total= 1.3min\n",
      "[CV] algorithm=SAMME.R, learning_rate=0.3, n_estimators=50 ...........\n",
      "[CV]  algorithm=SAMME.R, learning_rate=0.3, n_estimators=50, score=0.7209908735332464, total=  16.5s\n",
      "[CV] algorithm=SAMME.R, learning_rate=0.3, n_estimators=50 ...........\n",
      "[CV]  algorithm=SAMME.R, learning_rate=0.3, n_estimators=50, score=0.7252202172239802, total=  16.3s\n",
      "[CV] algorithm=SAMME.R, learning_rate=0.3, n_estimators=50 ...........\n",
      "[CV]  algorithm=SAMME.R, learning_rate=0.3, n_estimators=50, score=0.7287733778207042, total=  16.3s\n",
      "[CV] algorithm=SAMME.R, learning_rate=0.3, n_estimators=250 ..........\n",
      "[CV]  algorithm=SAMME.R, learning_rate=0.1, n_estimators=750, score=0.7364088352758986, total= 4.0min\n",
      "[CV] algorithm=SAMME.R, learning_rate=0.3, n_estimators=250 ..........\n",
      "[CV]  algorithm=SAMME.R, learning_rate=0.2, n_estimators=500, score=0.7406206952434973, total= 2.7min\n",
      "[CV] algorithm=SAMME.R, learning_rate=0.3, n_estimators=250 ..........\n",
      "[CV]  algorithm=SAMME.R, learning_rate=0.1, n_estimators=750, score=0.7342014859790684, total= 4.0min\n",
      "[CV] algorithm=SAMME.R, learning_rate=0.3, n_estimators=500 ..........\n"
     ]
    },
    {
     "name": "stderr",
     "output_type": "stream",
     "text": [
      "[Parallel(n_jobs=10)]: Done  93 tasks      | elapsed: 19.1min\n"
     ]
    },
    {
     "name": "stdout",
     "output_type": "stream",
     "text": [
      "[CV]  algorithm=SAMME.R, learning_rate=0.1, n_estimators=750, score=0.7348750101783242, total= 4.0min\n",
      "[CV] algorithm=SAMME.R, learning_rate=0.3, n_estimators=500 ..........\n",
      "[CV]  algorithm=SAMME.R, learning_rate=0.2, n_estimators=500, score=0.7360082795955737, total= 2.7min\n",
      "[CV] algorithm=SAMME.R, learning_rate=0.3, n_estimators=500 ..........\n",
      "[CV]  algorithm=SAMME.R, learning_rate=0.3, n_estimators=250, score=0.7384305835010061, total= 1.3min\n",
      "[CV] algorithm=SAMME.R, learning_rate=0.3, n_estimators=750 ..........\n",
      "[CV]  algorithm=SAMME.R, learning_rate=0.2, n_estimators=500, score=0.7361913283982754, total= 2.7min\n",
      "[CV] algorithm=SAMME.R, learning_rate=0.3, n_estimators=750 ..........\n",
      "[CV]  algorithm=SAMME.R, learning_rate=0.3, n_estimators=250, score=0.7347871402228814, total= 1.3min\n",
      "[CV] algorithm=SAMME.R, learning_rate=0.3, n_estimators=750 ..........\n",
      "[CV]  algorithm=SAMME.R, learning_rate=0.3, n_estimators=250, score=0.7329357724232413, total= 1.3min\n",
      "[CV] algorithm=SAMME.R, learning_rate=0.5, n_estimators=50 ...........\n",
      "[CV]  algorithm=SAMME.R, learning_rate=0.5, n_estimators=50, score=0.7265774378585087, total=  16.4s\n",
      "[CV] algorithm=SAMME.R, learning_rate=0.5, n_estimators=50 ...........\n",
      "[CV]  algorithm=SAMME.R, learning_rate=0.5, n_estimators=50, score=0.7247204766179712, total=  16.2s\n",
      "[CV] algorithm=SAMME.R, learning_rate=0.5, n_estimators=50 ...........\n",
      "[CV]  algorithm=SAMME.R, learning_rate=0.5, n_estimators=50, score=0.7272580514972959, total=  16.2s\n",
      "[CV] algorithm=SAMME.R, learning_rate=0.5, n_estimators=250 ..........\n",
      "[CV]  algorithm=SAMME.R, learning_rate=0.2, n_estimators=750, score=0.7447150550598827, total= 4.0min\n",
      "[CV] algorithm=SAMME.R, learning_rate=0.5, n_estimators=250 ..........\n",
      "[CV]  algorithm=SAMME.R, learning_rate=0.2, n_estimators=750, score=0.7360044342386571, total= 4.0min\n",
      "[CV] algorithm=SAMME.R, learning_rate=0.5, n_estimators=250 ..........\n",
      "[CV]  algorithm=SAMME.R, learning_rate=0.2, n_estimators=750, score=0.7406358708842327, total= 4.0min\n",
      "[CV] algorithm=SAMME.R, learning_rate=0.5, n_estimators=500 ..........\n",
      "[CV]  algorithm=SAMME.R, learning_rate=0.3, n_estimators=500, score=0.745735819119397, total= 2.7min\n",
      "[CV] algorithm=SAMME.R, learning_rate=0.5, n_estimators=500 ..........\n",
      "[CV]  algorithm=SAMME.R, learning_rate=0.3, n_estimators=500, score=0.7369999210920856, total= 2.7min\n",
      "[CV] algorithm=SAMME.R, learning_rate=0.5, n_estimators=500 ..........\n",
      "[CV]  algorithm=SAMME.R, learning_rate=0.3, n_estimators=500, score=0.7411830268290741, total= 2.7min\n",
      "[CV] algorithm=SAMME.R, learning_rate=0.5, n_estimators=750 ..........\n"
     ]
    },
    {
     "name": "stderr",
     "output_type": "stream",
     "text": [
      "[Parallel(n_jobs=10)]: Done 108 tasks      | elapsed: 22.8min\n"
     ]
    },
    {
     "name": "stdout",
     "output_type": "stream",
     "text": [
      "[CV]  algorithm=SAMME.R, learning_rate=0.5, n_estimators=250, score=0.7432165176805633, total= 1.3min\n",
      "[CV] algorithm=SAMME.R, learning_rate=0.5, n_estimators=750 ..........\n",
      "[CV]  algorithm=SAMME.R, learning_rate=0.5, n_estimators=250, score=0.7377564656866599, total= 1.3min\n",
      "[CV] algorithm=SAMME.R, learning_rate=0.5, n_estimators=750 ..........\n",
      "[CV]  algorithm=SAMME.R, learning_rate=0.5, n_estimators=250, score=0.7379649456737252, total= 1.3min\n",
      "[CV] algorithm=SAMME.R, learning_rate=0.8, n_estimators=50 ...........\n",
      "[CV]  algorithm=SAMME.R, learning_rate=0.8, n_estimators=50, score=0.726695085659133, total=  16.4s\n",
      "[CV] algorithm=SAMME.R, learning_rate=0.8, n_estimators=50 ...........\n",
      "[CV]  algorithm=SAMME.R, learning_rate=0.8, n_estimators=50, score=0.7252120155345962, total=  16.3s\n",
      "[CV] algorithm=SAMME.R, learning_rate=0.8, n_estimators=50 ...........\n",
      "[CV]  algorithm=SAMME.R, learning_rate=0.8, n_estimators=50, score=0.7263472570089683, total=  16.2s\n",
      "[CV] algorithm=SAMME.R, learning_rate=0.8, n_estimators=250 ..........\n",
      "[CV]  algorithm=SAMME.R, learning_rate=0.3, n_estimators=750, score=0.7477371113734752, total= 4.0min\n",
      "[CV] algorithm=SAMME.R, learning_rate=0.8, n_estimators=250 ..........\n",
      "[CV]  algorithm=SAMME.R, learning_rate=0.3, n_estimators=750, score=0.7395221308264786, total= 4.0min\n",
      "[CV] algorithm=SAMME.R, learning_rate=0.8, n_estimators=250 ..........\n",
      "[CV]  algorithm=SAMME.R, learning_rate=0.3, n_estimators=750, score=0.7466888730272028, total= 4.0min\n",
      "[CV] algorithm=SAMME.R, learning_rate=0.8, n_estimators=500 ..........\n",
      "[CV]  algorithm=SAMME.R, learning_rate=0.5, n_estimators=500, score=0.7468216207784103, total= 2.7min\n",
      "[CV] algorithm=SAMME.R, learning_rate=0.8, n_estimators=500 ..........\n",
      "[CV]  algorithm=SAMME.R, learning_rate=0.5, n_estimators=500, score=0.7410278273002093, total= 2.7min\n",
      "[CV] algorithm=SAMME.R, learning_rate=0.8, n_estimators=500 ..........\n",
      "[CV]  algorithm=SAMME.R, learning_rate=0.5, n_estimators=500, score=0.7478885468466334, total= 2.7min\n",
      "[CV] algorithm=SAMME.R, learning_rate=0.8, n_estimators=750 ..........\n",
      "[CV]  algorithm=SAMME.R, learning_rate=0.8, n_estimators=250, score=0.744672485649131, total= 1.3min\n",
      "[CV] algorithm=SAMME.R, learning_rate=0.8, n_estimators=750 ..........\n",
      "[CV]  algorithm=SAMME.R, learning_rate=0.8, n_estimators=250, score=0.7395485922593654, total= 1.3min\n",
      "[CV] algorithm=SAMME.R, learning_rate=0.8, n_estimators=750 ..........\n",
      "[CV]  algorithm=SAMME.R, learning_rate=0.8, n_estimators=250, score=0.7504998000799681, total= 1.3min\n",
      "[CV] algorithm=SAMME.R, learning_rate=1, n_estimators=50 .............\n",
      "[CV]  algorithm=SAMME.R, learning_rate=1, n_estimators=50, score=0.7273606967180066, total=  16.3s\n",
      "[CV] algorithm=SAMME.R, learning_rate=1, n_estimators=50 .............\n",
      "[CV]  algorithm=SAMME.R, learning_rate=1, n_estimators=50, score=0.7254733889191928, total=  16.5s\n",
      "[CV] algorithm=SAMME.R, learning_rate=1, n_estimators=50 .............\n"
     ]
    },
    {
     "name": "stderr",
     "output_type": "stream",
     "text": [
      "[Parallel(n_jobs=10)]: Done 125 tasks      | elapsed: 26.7min\n"
     ]
    },
    {
     "name": "stdout",
     "output_type": "stream",
     "text": [
      "[CV]  algorithm=SAMME.R, learning_rate=1, n_estimators=50, score=0.728671554015951, total=  16.2s\n",
      "[CV] algorithm=SAMME.R, learning_rate=1, n_estimators=250 ............\n",
      "[CV]  algorithm=SAMME.R, learning_rate=0.5, n_estimators=750, score=0.7496315830295509, total= 4.0min\n",
      "[CV] algorithm=SAMME.R, learning_rate=1, n_estimators=250 ............\n",
      "[CV]  algorithm=SAMME.R, learning_rate=0.5, n_estimators=750, score=0.7416249518675395, total= 4.0min\n",
      "[CV] algorithm=SAMME.R, learning_rate=1, n_estimators=250 ............\n",
      "[CV]  algorithm=SAMME.R, learning_rate=0.5, n_estimators=750, score=0.752777121247932, total= 4.0min\n",
      "[CV] algorithm=SAMME.R, learning_rate=1, n_estimators=500 ............\n",
      "[CV]  algorithm=SAMME.R, learning_rate=0.8, n_estimators=500, score=0.7505612758380429, total= 2.7min\n",
      "[CV] algorithm=SAMME.R, learning_rate=1, n_estimators=500 ............\n",
      "[CV]  algorithm=SAMME.R, learning_rate=0.8, n_estimators=500, score=0.7437062129494187, total= 2.7min\n",
      "[CV] algorithm=SAMME.R, learning_rate=1, n_estimators=500 ............\n",
      "[CV]  algorithm=SAMME.R, learning_rate=0.8, n_estimators=500, score=0.7550427752923632, total= 2.7min\n",
      "[CV] algorithm=SAMME.R, learning_rate=1, n_estimators=750 ............\n",
      "[CV]  algorithm=SAMME.R, learning_rate=1, n_estimators=250, score=0.7488559683549212, total= 1.3min\n",
      "[CV] algorithm=SAMME.R, learning_rate=1, n_estimators=750 ............\n",
      "[CV]  algorithm=SAMME.R, learning_rate=1, n_estimators=250, score=0.7372307223871508, total= 1.3min\n",
      "[CV] algorithm=SAMME.R, learning_rate=1, n_estimators=750 ............\n",
      "[CV]  algorithm=SAMME.R, learning_rate=1, n_estimators=250, score=0.7482387551288999, total= 1.3min\n",
      "[CV]  algorithm=SAMME.R, learning_rate=0.8, n_estimators=750, score=0.7521782712622408, total= 4.0min\n",
      "[CV]  algorithm=SAMME.R, learning_rate=0.8, n_estimators=750, score=0.7447952677268187, total= 3.9min\n",
      "[CV]  algorithm=SAMME.R, learning_rate=0.8, n_estimators=750, score=0.7563774521206481, total= 3.9min\n",
      "[CV]  algorithm=SAMME.R, learning_rate=1, n_estimators=500, score=0.7529357586921483, total= 2.5min\n",
      "[CV]  algorithm=SAMME.R, learning_rate=1, n_estimators=500, score=0.7432380952380951, total= 2.5min\n"
     ]
    },
    {
     "name": "stderr",
     "output_type": "stream",
     "text": [
      "[Parallel(n_jobs=10)]: Done 140 out of 144 | elapsed: 30.3min remaining:   52.0s\n"
     ]
    },
    {
     "name": "stdout",
     "output_type": "stream",
     "text": [
      "[CV]  algorithm=SAMME.R, learning_rate=1, n_estimators=500, score=0.7540263543191801, total= 2.4min\n",
      "[CV]  algorithm=SAMME.R, learning_rate=1, n_estimators=750, score=0.7521749172376626, total= 2.7min\n",
      "[CV]  algorithm=SAMME.R, learning_rate=1, n_estimators=750, score=0.7440273037542662, total= 2.4min\n",
      "[CV]  algorithm=SAMME.R, learning_rate=1, n_estimators=750, score=0.7571417511806148, total= 2.1min\n"
     ]
    },
    {
     "name": "stderr",
     "output_type": "stream",
     "text": [
      "[Parallel(n_jobs=10)]: Done 144 out of 144 | elapsed: 31.1min finished\n"
     ]
    },
    {
     "name": "stdout",
     "output_type": "stream",
     "text": [
      "Unoptimized model\n",
      "------\n",
      "Accuracy score on testing data: 0.8576\n",
      "F-score on testing data: 0.7246\n",
      "\n",
      "Optimized Model\n",
      "------\n",
      "Final accuracy score on the testing data: 0.8668\n",
      "Final F-score on the testing data: 0.7435\n"
     ]
    }
   ],
   "source": [
    "# TODO: Import 'GridSearchCV', 'make_scorer', and any other necessary libraries\n",
    "from sklearn.model_selection import GridSearchCV\n",
    "from sklearn.metrics import make_scorer\n",
    "\n",
    "# TODO: Initialize the classifier\n",
    "clf = AdaBoostClassifier(random_state = 7)\n",
    "\n",
    "# TODO: Create the parameters list you wish to tune, using a dictionary if needed.\n",
    "# HINT: parameters = {'parameter_1': [value1, value2], 'parameter_2': [value1, value2]}\n",
    "parameters = {\"n_estimators\":[50,250,500,750],\n",
    "             'algorithm' : ['SAMME', 'SAMME.R'],\n",
    "              \"learning_rate\":[0.1,0.2,0.3,0.5,0.8,1]\n",
    "             }\n",
    "\n",
    "# TODO: Make an fbeta_score scoring object using make_scorer()\n",
    "scorer = make_scorer(fbeta_score, beta = 0.5)\n",
    "\n",
    "# TODO: Perform grid search on the classifier using 'scorer' as the scoring method using GridSearchCV()\n",
    "grid_obj = GridSearchCV(clf, parameters, scoring = scorer, n_jobs=10, verbose=10)\n",
    "\n",
    "# TODO: Fit the grid search object to the training data and find the optimal parameters using fit()\n",
    "grid_fit = grid_obj.fit(X_train, y_train)\n",
    "\n",
    "# Get the estimator\n",
    "best_clf = grid_fit.best_estimator_\n",
    "\n",
    "# Make predictions using the unoptimized and model\n",
    "predictions = (clf.fit(X_train, y_train)).predict(X_test)\n",
    "best_predictions = best_clf.predict(X_test)\n",
    "\n",
    "# Report the before-and-afterscores\n",
    "print(\"Unoptimized model\\n------\")\n",
    "print(\"Accuracy score on testing data: {:.4f}\".format(accuracy_score(y_test, predictions)))\n",
    "print(\"F-score on testing data: {:.4f}\".format(fbeta_score(y_test, predictions, beta = 0.5)))\n",
    "print(\"\\nOptimized Model\\n------\")\n",
    "print(\"Final accuracy score on the testing data: {:.4f}\".format(accuracy_score(y_test, best_predictions)))\n",
    "print(\"Final F-score on the testing data: {:.4f}\".format(fbeta_score(y_test, best_predictions, beta = 0.5)))"
   ]
  },
  {
   "cell_type": "markdown",
   "metadata": {},
   "source": [
    "### Question 5 - Final Model Evaluation\n",
    "\n",
    "* What is your optimized model's accuracy and F-score on the testing data? \n",
    "* Are these scores better or worse than the unoptimized model? \n",
    "* How do the results from your optimized model compare to the naive predictor benchmarks you found earlier in **Question 1**?_  \n",
    "\n",
    "**Note:** Fill in the table below with your results, and then provide discussion in the **Answer** box."
   ]
  },
  {
   "cell_type": "markdown",
   "metadata": {},
   "source": [
    "#### Results:\n",
    "\n",
    "|     Metric     | Unoptimized Model | Optimized Model |\n",
    "| :------------: | :---------------: | :-------------: | \n",
    "| Accuracy Score |      0.8576       |      0.8668     |\n",
    "| F-score        |      0.7246       |      0.7435     |\n"
   ]
  },
  {
   "cell_type": "markdown",
   "metadata": {},
   "source": [
    "**Answer:**\n",
    "\n",
    "- My optimized model's accuracy and F-score on the testing data is 0.8668 and 0.7435\n",
    "- Definately the Optimized scores are slightly better than the Unoptimized scores the difference them is 0.01 Accuracy and 0.02\n",
    "-  I notice that the AdaBoost Classifier performed significantly better than the Naive Bayes Predictor and they are much better than benchmark scores."
   ]
  },
  {
   "cell_type": "markdown",
   "metadata": {},
   "source": [
    "----\n",
    "## Feature Importance\n",
    "\n",
    "An important task when performing supervised learning on a dataset like the census data we study here is determining which features provide the most predictive power. By focusing on the relationship between only a few crucial features and the target label we simplify our understanding of the phenomenon, which is most always a useful thing to do. In the case of this project, that means we wish to identify a small number of features that most strongly predict whether an individual makes at most or more than \\$50,000.\n",
    "\n",
    "Choose a scikit-learn classifier (e.g., adaboost, random forests) that has a `feature_importance_` attribute, which is a function that ranks the importance of features according to the chosen classifier.  In the next python cell fit this classifier to training set and use this attribute to determine the top 5 most important features for the census dataset."
   ]
  },
  {
   "cell_type": "markdown",
   "metadata": {},
   "source": [
    "### Question 6 - Feature Relevance Observation\n",
    "When **Exploring the Data**, it was shown there are thirteen available features for each individual on record in the census data. Of these thirteen records, which five features do you believe to be most important for prediction, and in what order would you rank them and why?"
   ]
  },
  {
   "cell_type": "code",
   "execution_count": 34,
   "metadata": {},
   "outputs": [
    {
     "data": {
      "text/plain": [
       "Index(['age', 'workclass', 'education_level', 'education-num',\n",
       "       'marital-status', 'occupation', 'relationship', 'race', 'sex',\n",
       "       'capital-gain', 'capital-loss', 'hours-per-week', 'native-country',\n",
       "       'income'],\n",
       "      dtype='object')"
      ]
     },
     "execution_count": 34,
     "metadata": {},
     "output_type": "execute_result"
    }
   ],
   "source": [
    "data.columns"
   ]
  },
  {
   "cell_type": "markdown",
   "metadata": {},
   "source": [
    "**Answer:**\n",
    "\n",
    "1. **workclass:**\n",
    "  It defines in which sector the person is working and also the person is working or not.\n",
    "1. **capital-gain:**\n",
    "  we can say that if the capital-gain is high we can expect that person will make a high Income.\n",
    "- **capital-loss:**\n",
    "  we can say that if the Capital-loss is low we can say that person will make less income.\n",
    "- **hours-per-week:**\n",
    "  On average people who work more hours a week will earn more than people who work less hours a week. \n",
    "- **education_level:**\n",
    "  In the present senario we can expect if higher the degree is then higher the income.\n"
   ]
  },
  {
   "cell_type": "markdown",
   "metadata": {},
   "source": [
    "### Implementation - Extracting Feature Importance\n",
    "Choose a `scikit-learn` supervised learning algorithm that has a `feature_importance_` attribute availble for it. This attribute is a function that ranks the importance of each feature when making predictions based on the chosen algorithm.\n",
    "\n",
    "In the code cell below, you will need to implement the following:\n",
    " - Import a supervised learning model from sklearn if it is different from the three used earlier.\n",
    " - Train the supervised model on the entire training set.\n",
    " - Extract the feature importances using `'.feature_importances_'`."
   ]
  },
  {
   "cell_type": "code",
   "execution_count": 25,
   "metadata": {},
   "outputs": [
    {
     "data": {
      "image/png": "[encoded data removed]",
      "text/plain": [
       "<matplotlib.figure.Figure at 0x7f4e67f557b8>"
      ]
     },
     "metadata": {
      "needs_background": "light"
     },
     "output_type": "display_data"
    }
   ],
   "source": [
    "# TODO: Import a supervised learning model that has 'feature_importances_'\n",
    "\n",
    "# TODO: Train the supervised model on the training set using .fit(X_train, y_train)\n",
    "model = AdaBoostClassifier(random_state = 7).fit(X_train, y_train)\n",
    "\n",
    "# TODO: Extract the feature importances using .feature_importances_ \n",
    "importances = model.feature_importances_\n",
    "\n",
    "# Plot\n",
    "vs.feature_plot(importances, X_train, y_train)"
   ]
  },
  {
   "cell_type": "markdown",
   "metadata": {},
   "source": [
    "### Question 7 - Extracting Feature Importance\n",
    "\n",
    "Observe the visualization created above which displays the five most relevant features for predicting if an individual makes at most or above \\$50,000.  \n",
    "* How do these five features compare to the five features you discussed in **Question 6**?\n",
    "* If you were close to the same answer, how does this visualization confirm your thoughts? \n",
    "* If you were not close, why do you think these features are more relevant?"
   ]
  },
  {
   "cell_type": "markdown",
   "metadata": {},
   "source": [
    "**Answer:**\n",
    "\n",
    "Nearly 80% of my selected features are matched with the above features. May be the education_num shows the number of years educatation. The captial loss-gain are directly showing impact on the income so they are highly relevant. if the age is high means he is well experienced so it is releavant."
   ]
  },
  {
   "cell_type": "markdown",
   "metadata": {},
   "source": [
    "### Feature Selection\n",
    "How does a model perform if we only use a subset of all the available features in the data? With less features required to train, the expectation is that training and prediction time is much lower — at the cost of performance metrics. From the visualization above, we see that the top five most important features contribute more than half of the importance of **all** features present in the data. This hints that we can attempt to *reduce the feature space* and simplify the information required for the model to learn. The code cell below will use the same optimized model you found earlier, and train it on the same training set *with only the top five important features*. "
   ]
  },
  {
   "cell_type": "code",
   "execution_count": 26,
   "metadata": {},
   "outputs": [
    {
     "name": "stdout",
     "output_type": "stream",
     "text": [
      "Final Model trained on full data\n",
      "------\n",
      "Accuracy on testing data: 0.8668\n",
      "F-score on testing data: 0.7435\n",
      "\n",
      "Final Model trained on reduced data\n",
      "------\n",
      "Accuracy on testing data: 0.8411\n",
      "F-score on testing data: 0.7008\n"
     ]
    }
   ],
   "source": [
    "# Import functionality for cloning a model\n",
    "from sklearn.base import clone\n",
    "\n",
    "# Reduce the feature space\n",
    "X_train_reduced = X_train[X_train.columns.values[(np.argsort(importances)[::-1])[:5]]]\n",
    "X_test_reduced = X_test[X_test.columns.values[(np.argsort(importances)[::-1])[:5]]]\n",
    "\n",
    "# Train on the \"best\" model found from grid search earlier\n",
    "clf = (clone(best_clf)).fit(X_train_reduced, y_train)\n",
    "\n",
    "# Make new predictions\n",
    "reduced_predictions = clf.predict(X_test_reduced)\n",
    "\n",
    "# Report scores from the final model using both versions of data\n",
    "print(\"Final Model trained on full data\\n------\")\n",
    "print(\"Accuracy on testing data: {:.4f}\".format(accuracy_score(y_test, best_predictions)))\n",
    "print(\"F-score on testing data: {:.4f}\".format(fbeta_score(y_test, best_predictions, beta = 0.5)))\n",
    "print(\"\\nFinal Model trained on reduced data\\n------\")\n",
    "print(\"Accuracy on testing data: {:.4f}\".format(accuracy_score(y_test, reduced_predictions)))\n",
    "print(\"F-score on testing data: {:.4f}\".format(fbeta_score(y_test, reduced_predictions, beta = 0.5)))"
   ]
  },
  {
   "cell_type": "markdown",
   "metadata": {},
   "source": [
    "### Question 8 - Effects of Feature Selection\n",
    "\n",
    "* How does the final model's F-score and accuracy score on the reduced data using only five features compare to those same scores when all features are used?\n",
    "* If training time was a factor, would you consider using the reduced data as your training set?"
   ]
  },
  {
   "cell_type": "markdown",
   "metadata": {},
   "source": [
    "**Answer:**\n",
    "-  The accuracy and f-score of the model decreased while compared to full features trained model the difference between them is approxmately equal to 0.0422 obviously, the removed features may contain important information related to the target variable\n",
    "- Yes if the training time was the main criteria for the applicaton definately I'll consider using the reduced data as my training set because we can observe the F-score difference is 0.04 which is small in general while time is a factor"
   ]
  },
  {
   "cell_type": "markdown",
   "metadata": {},
   "source": [
    "> **Note**: Once you have completed all of the code implementations and successfully answered each question above, you may finalize your work by exporting the iPython Notebook as an HTML document. You can do this by using the menu above and navigating to  \n",
    "**File -> Download as -> HTML (.html)**. Include the finished document along with this notebook as your submission."
   ]
  },
  {
   "cell_type": "markdown",
   "metadata": {},
   "source": [
    "## Before You Submit\n",
    "You will also need run the following in order to convert the Jupyter notebook into HTML, so that your submission will include both files."
   ]
  },
  {
   "cell_type": "code",
   "execution_count": 1,
   "metadata": {},
   "outputs": [
    {
     "data": {
      "text/plain": [
       "['[NbConvertApp] Converting notebook finding_donors.ipynb to html',\n",
       " '[NbConvertApp] Writing 529466 bytes to finding_donors.html']"
      ]
     },
     "execution_count": 1,
     "metadata": {},
     "output_type": "execute_result"
    }
   ],
   "source": [
    "!!jupyter nbconvert *.ipynb"
   ]
  }
 ],
 "metadata": {
  "kernelspec": {
   "display_name": "Python 3",
   "language": "python",
   "name": "python3"
  },
  "language_info": {
   "codemirror_mode": {
    "name": "ipython",
    "version": 3
   },
   "file_extension": ".py",
   "mimetype": "text/x-python",
   "name": "python",
   "nbconvert_exporter": "python",
   "pygments_lexer": "ipython3",
   "version": "3.6.3"
  }
 },
 "nbformat": 4,
 "nbformat_minor": 1
}
