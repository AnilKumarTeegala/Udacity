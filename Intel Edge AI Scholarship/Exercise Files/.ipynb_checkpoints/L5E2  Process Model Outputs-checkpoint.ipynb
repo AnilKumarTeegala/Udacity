{
 "cells": [
  {
   "cell_type": "markdown",
   "metadata": {},
   "source": [
    "# Processing Model Outputs\n",
    "\n",
    "Make sure to click the button below before you get started to source the correct environment.\n",
    "\n",
    "<button id=\"ulab-button-4fb9f776\" class=\"ulab-btn--primary\"></button>\n",
    "\n",
    "Let's say you have a cat and two dogs at your house. \n",
    "\n",
    "If both dogs are in a room together, they are best buds, and everything is going well.\n",
    "\n",
    "If the cat and dog #1 are in a room together, they are also good friends, and everything is fine.\n",
    "\n",
    "However, if the cat and dog #2 are in a room together, they don't get along, and you may need\n",
    "to either pull them apart, or at least play a pre-recorded message from your smart speaker\n",
    "to tell them to cut it out.\n",
    "\n",
    "In this exercise, you'll receive a video where some combination or the cat and dogs may be\n",
    "in view. You also will have an IR that is able to determine which of these, if any, are on screen.\n",
    "\n",
    "While the best model for this is likely an object detection model that can identify different\n",
    "breeds, I have provided you with a very basic (and overfit) model that will return three classes,\n",
    "one for one or less pets on screen, one for the bad combination of the cat and dog #2, and\n",
    "one for the fine combination of the cat and dog #1. This is within the exercise directory - `model.xml`.\n",
    "\n",
    "It is up to you to add code that will print to the terminal anytime the bad combination of the \n",
    "cat and dog #2 are detected together. **Note**: It's important to consider whether you really\n",
    "want to output a warning *every single time* both pets are on-screen - is your warning helpful\n",
    "if it re-starts every 30th of a second, with a video at 30 fps?"
   ]
  },
  {
   "cell_type": "markdown",
   "metadata": {},
   "source": [
    "# Solution Processing Model Outputs\n",
    "\n",
    "My approach in this exercise was to check if the bad combination of pets was on screen,\n",
    "but also to track whether I already warned them in the current incident. Now, I might also\n",
    "consider re-playing the warning after a certain time period in a single consecutive incident,\n",
    "but the provided video file does not really have that long of consecutive timespans.\n",
    "\n",
    "I also output a \"timestamp\" by checking how many frames had been processed so far \n",
    "at 30 fps.\n",
    "\n",
    "The next step of this, which we'll look at shortly, is how you could actually send this \n",
    "information over the Internet, so that you could get an alert or even stream the video,\n",
    "if necessary.\n",
    "\n",
    "As we get further into the lesson and consider the costs of streaming images and/or video\n",
    "to a server, another consideration here could be that you also save down the video *only*\n",
    "when you run into this problem situation. You could potentially have a running 30 second loop\n",
    "as well stored on the local device that is constantly refreshed, but the leading 30 seconds is\n",
    "stored anytime the problematic pet combination is detected.\n",
    "\n",
    "To run the app, I just used:\n",
    "\n",
    "```\n",
    "python app.py -m model.xml\n",
    "```\n",
    "\n",
    "Since the model was provided here in the same directory.\n"
   ]
  }
 ],
 "metadata": {
  "kernelspec": {
   "display_name": "Python 3",
   "language": "python",
   "name": "python3"
  },
  "language_info": {
   "codemirror_mode": {
    "name": "ipython",
    "version": 3
   },
   "file_extension": ".py",
   "mimetype": "text/x-python",
   "name": "python",
   "nbconvert_exporter": "python",
   "pygments_lexer": "ipython3",
   "version": "3.7.3"
  }
 },
 "nbformat": 4,
 "nbformat_minor": 2
}
